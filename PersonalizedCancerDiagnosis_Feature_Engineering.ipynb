{
 "cells": [
  {
   "cell_type": "markdown",
   "metadata": {},
   "source": [
    "<p style=\"font-size:36px;text-align:center\"> <b>Personalized cancer diagnosis</b> </p>"
   ]
  },
  {
   "cell_type": "markdown",
   "metadata": {},
   "source": [
    "<h1>1. Business Problem</h1>"
   ]
  },
  {
   "cell_type": "markdown",
   "metadata": {},
   "source": [
    "<h2>1.1. Description</h2>"
   ]
  },
  {
   "cell_type": "markdown",
   "metadata": {},
   "source": [
    "<p> Source: https://www.kaggle.com/c/msk-redefining-cancer-treatment/ </p>\n",
    "<p> Data: Memorial Sloan Kettering Cancer Center (MSKCC)</p>\n",
    "<p> Download training_variants.zip and training_text.zip from Kaggle.</p> \n",
    "\n",
    "<h6> Context:</h6>\n",
    "<p> Source: https://www.kaggle.com/c/msk-redefining-cancer-treatment/discussion/35336#198462</p>\n",
    "\n",
    "<h6> Problem statement : </h6>\n",
    "<p> Classify the given genetic variations/mutations based on evidence from text-based clinical literature. </p>"
   ]
  },
  {
   "cell_type": "markdown",
   "metadata": {},
   "source": [
    "<h2>1.2. Source/Useful Links</h2>"
   ]
  },
  {
   "cell_type": "markdown",
   "metadata": {},
   "source": [
    " Some articles and reference blogs about the problem statement"
   ]
  },
  {
   "cell_type": "markdown",
   "metadata": {},
   "source": [
    "1. https://www.forbes.com/sites/matthewherper/2017/06/03/a-new-cancer-drug-helped-almost-everyone-who-took-it-almost-heres-what-it-teaches-us/#2a44ee2f6b25\n",
    "2. https://www.youtube.com/watch?v=UwbuW7oK8rk \n",
    "3. https://www.youtube.com/watch?v=qxXRKVompI8"
   ]
  },
  {
   "cell_type": "markdown",
   "metadata": {},
   "source": [
    "<h2>1.3. Real-world/Business objectives and constraints.</h2>"
   ]
  },
  {
   "cell_type": "markdown",
   "metadata": {},
   "source": [
    "* No low-latency requirement.\n",
    "* Interpretability is important.\n",
    "* Errors can be very costly.\n",
    "* Probability of a data-point belonging to each class is needed."
   ]
  },
  {
   "cell_type": "markdown",
   "metadata": {},
   "source": [
    "<h1>2. Machine Learning Problem Formulation</h1>"
   ]
  },
  {
   "cell_type": "markdown",
   "metadata": {},
   "source": [
    "<h2>2.1. Data</h2>"
   ]
  },
  {
   "cell_type": "markdown",
   "metadata": {},
   "source": [
    "<h3>2.1.1. Data Overview</h3>"
   ]
  },
  {
   "cell_type": "markdown",
   "metadata": {},
   "source": [
    "- Source: https://www.kaggle.com/c/msk-redefining-cancer-treatment/data\n",
    "- We have two data files: one conatins the information about the genetic mutations and the other contains the clinical evidence (text) that  human experts/pathologists use to classify the genetic mutations. \n",
    "- Both these data files are have a common column called ID\n",
    "- <p> \n",
    "    Data file's information:\n",
    "    <ul> \n",
    "        <li>\n",
    "        training_variants (ID , Gene, Variations, Class)\n",
    "        </li>\n",
    "        <li>\n",
    "        training_text (ID, Text)\n",
    "        </li>\n",
    "    </ul>\n",
    "</p>"
   ]
  },
  {
   "cell_type": "markdown",
   "metadata": {},
   "source": [
    "<h3>2.1.2. Example Data Point</h3>"
   ]
  },
  {
   "cell_type": "markdown",
   "metadata": {},
   "source": [
    "<h6>training_variants</h6>\n",
    "<hr>\n",
    "ID,Gene,Variation,Class<br>\n",
    "0,FAM58A,Truncating Mutations,1 <br>\n",
    "1,CBL,W802*,2 <br>\n",
    "2,CBL,Q249E,2 <br>\n",
    "...\n",
    "\n",
    "<h6> training_text</h6>\n",
    "<hr>\n",
    "ID,Text <br>\n",
    "0||Cyclin-dependent kinases (CDKs) regulate a variety of fundamental cellular processes. CDK10 stands out as one of the last orphan CDKs for which no activating cyclin has been identified and no kinase activity revealed. Previous work has shown that CDK10 silencing increases ETS2 (v-ets erythroblastosis virus E26 oncogene homolog 2)-driven activation of the MAPK pathway, which confers tamoxifen resistance to breast cancer cells. The precise mechanisms by which CDK10 modulates ETS2 activity, and more generally the functions of CDK10, remain elusive. Here we demonstrate that CDK10 is a cyclin-dependent kinase by identifying cyclin M as an activating cyclin. Cyclin M, an orphan cyclin, is the product of FAM58A, whose mutations cause STAR syndrome, a human developmental anomaly whose features include toe syndactyly, telecanthus, and anogenital and renal malformations. We show that STAR syndrome-associated cyclin M mutants are unable to interact with CDK10. Cyclin M silencing phenocopies CDK10 silencing in increasing c-Raf and in conferring tamoxifen resistance to breast cancer cells. CDK10/cyclin M phosphorylates ETS2 in vitro, and in cells it positively controls ETS2 degradation by the proteasome. ETS2 protein levels are increased in cells derived from a STAR patient, and this increase is attributable to decreased cyclin M levels. Altogether, our results reveal an additional regulatory mechanism for ETS2, which plays key roles in cancer and development. They also shed light on the molecular mechanisms underlying STAR syndrome.Cyclin-dependent kinases (CDKs) play a pivotal role in the control of a number of fundamental cellular processes (1). The human genome contains 21 genes encoding proteins that can be considered as members of the CDK family owing to their sequence similarity with bona fide CDKs, those known to be activated by cyclins (2). Although discovered almost 20 y ago (3, 4), CDK10 remains one of the two CDKs without an identified cyclin partner. This knowledge gap has largely impeded the exploration of its biological functions. CDK10 can act as a positive cell cycle regulator in some cells (5, 6) or as a tumor suppressor in others (7, 8). CDK10 interacts with the ETS2 (v-ets erythroblastosis virus E26 oncogene homolog 2) transcription factor and inhibits its transcriptional activity through an unknown mechanism (9). CDK10 knockdown derepresses ETS2, which increases the expression of the c-Raf protein kinase, activates the MAPK pathway, and induces resistance of MCF7 cells to tamoxifen (6). ... "
   ]
  },
  {
   "cell_type": "markdown",
   "metadata": {},
   "source": [
    "<h2>2.2. Mapping the real-world problem to an ML problem</h2>"
   ]
  },
  {
   "cell_type": "markdown",
   "metadata": {},
   "source": [
    "<h3>2.2.1. Type of Machine Learning Problem</h3>"
   ]
  },
  {
   "cell_type": "markdown",
   "metadata": {},
   "source": [
    "<p>\n",
    "    \n",
    "            There are nine different classes a genetic mutation can be classified into => Multi class classification problem\n",
    "   \n",
    "      \n",
    "    \n",
    "</p>"
   ]
  },
  {
   "cell_type": "markdown",
   "metadata": {},
   "source": [
    "<h3>2.2.2. Performance Metric</h3>"
   ]
  },
  {
   "cell_type": "markdown",
   "metadata": {},
   "source": [
    "Source: https://www.kaggle.com/c/msk-redefining-cancer-treatment#evaluation\n",
    "\n",
    "Metric(s): \n",
    "* Multi class log-loss \n",
    "* Confusion matrix \n"
   ]
  },
  {
   "cell_type": "markdown",
   "metadata": {},
   "source": [
    "<h3>2.2.3. Machine Learing Objectives and Constraints</h3>"
   ]
  },
  {
   "cell_type": "markdown",
   "metadata": {},
   "source": [
    "<p> Objective: Predict the probability of each data-point belonging to each of the nine classes.\n",
    "</p>\n",
    "<p> Constraints:\n",
    "</p>\n",
    "* Interpretability\n",
    "* Class probabilities are needed.\n",
    "* Penalize the errors in class probabilites => Metric is Log-loss.\n",
    "* No Latency constraints."
   ]
  },
  {
   "cell_type": "markdown",
   "metadata": {},
   "source": [
    "<h2>2.3. Train, CV and Test Datasets</h2>"
   ]
  },
  {
   "cell_type": "markdown",
   "metadata": {},
   "source": [
    " Split the dataset randomly into three parts train, cross validation and test with 64%,16%, 20% of data respectively"
   ]
  },
  {
   "cell_type": "markdown",
   "metadata": {},
   "source": [
    "<h1>3. Exploratory Data Analysis</h1>"
   ]
  },
  {
   "cell_type": "code",
   "execution_count": 1,
   "metadata": {},
   "outputs": [],
   "source": [
    "import pandas as pd\n",
    "import matplotlib.pyplot as plt\n",
    "import re\n",
    "import time\n",
    "import warnings\n",
    "import numpy as np\n",
    "from nltk.corpus import stopwords\n",
    "from sklearn.decomposition import TruncatedSVD\n",
    "from sklearn.preprocessing import normalize\n",
    "from sklearn.feature_extraction.text import CountVectorizer\n",
    "from sklearn.manifold import TSNE\n",
    "import seaborn as sns\n",
    "from sklearn.neighbors import KNeighborsClassifier\n",
    "from sklearn.metrics import confusion_matrix\n",
    "from sklearn.metrics.classification import accuracy_score, log_loss\n",
    "from sklearn.feature_extraction.text import TfidfVectorizer\n",
    "from sklearn.linear_model import SGDClassifier\n",
    "from imblearn.over_sampling import SMOTE\n",
    "from collections import Counter\n",
    "from scipy.sparse import hstack\n",
    "from sklearn.multiclass import OneVsRestClassifier\n",
    "from sklearn.svm import SVC\n",
    "from sklearn.model_selection import StratifiedKFold \n",
    "# from sklearn.cross_validation import StratifiedKFold \n",
    "from collections import Counter, defaultdict\n",
    "from sklearn.calibration import CalibratedClassifierCV\n",
    "from sklearn.naive_bayes import MultinomialNB\n",
    "from sklearn.naive_bayes import GaussianNB\n",
    "from sklearn.model_selection import train_test_split\n",
    "from sklearn.model_selection import GridSearchCV\n",
    "import math\n",
    "from sklearn.metrics import normalized_mutual_info_score\n",
    "from sklearn.ensemble import RandomForestClassifier\n",
    "warnings.filterwarnings(\"ignore\")\n",
    "\n",
    "from mlxtend.classifier import StackingClassifier\n",
    "\n",
    "from sklearn import model_selection\n",
    "from sklearn.linear_model import LogisticRegression\n",
    "from sklearn.model_selection import train_test_split\n"
   ]
  },
  {
   "cell_type": "markdown",
   "metadata": {},
   "source": [
    "<h2>3.1. Reading Data</h2>"
   ]
  },
  {
   "cell_type": "markdown",
   "metadata": {},
   "source": [
    "<h3>3.1.1. Reading Gene and Variation Data</h3>"
   ]
  },
  {
   "cell_type": "code",
   "execution_count": 2,
   "metadata": {},
   "outputs": [
    {
     "name": "stdout",
     "output_type": "stream",
     "text": [
      "Number of data points :  3321\n",
      "Number of features :  4\n",
      "Features :  ['ID' 'Gene' 'Variation' 'Class']\n"
     ]
    },
    {
     "data": {
      "text/html": [
       "<div>\n",
       "<style scoped>\n",
       "    .dataframe tbody tr th:only-of-type {\n",
       "        vertical-align: middle;\n",
       "    }\n",
       "\n",
       "    .dataframe tbody tr th {\n",
       "        vertical-align: top;\n",
       "    }\n",
       "\n",
       "    .dataframe thead th {\n",
       "        text-align: right;\n",
       "    }\n",
       "</style>\n",
       "<table border=\"1\" class=\"dataframe\">\n",
       "  <thead>\n",
       "    <tr style=\"text-align: right;\">\n",
       "      <th></th>\n",
       "      <th>ID</th>\n",
       "      <th>Gene</th>\n",
       "      <th>Variation</th>\n",
       "      <th>Class</th>\n",
       "    </tr>\n",
       "  </thead>\n",
       "  <tbody>\n",
       "    <tr>\n",
       "      <th>0</th>\n",
       "      <td>0</td>\n",
       "      <td>FAM58A</td>\n",
       "      <td>Truncating Mutations</td>\n",
       "      <td>1</td>\n",
       "    </tr>\n",
       "    <tr>\n",
       "      <th>1</th>\n",
       "      <td>1</td>\n",
       "      <td>CBL</td>\n",
       "      <td>W802*</td>\n",
       "      <td>2</td>\n",
       "    </tr>\n",
       "    <tr>\n",
       "      <th>2</th>\n",
       "      <td>2</td>\n",
       "      <td>CBL</td>\n",
       "      <td>Q249E</td>\n",
       "      <td>2</td>\n",
       "    </tr>\n",
       "    <tr>\n",
       "      <th>3</th>\n",
       "      <td>3</td>\n",
       "      <td>CBL</td>\n",
       "      <td>N454D</td>\n",
       "      <td>3</td>\n",
       "    </tr>\n",
       "    <tr>\n",
       "      <th>4</th>\n",
       "      <td>4</td>\n",
       "      <td>CBL</td>\n",
       "      <td>L399V</td>\n",
       "      <td>4</td>\n",
       "    </tr>\n",
       "  </tbody>\n",
       "</table>\n",
       "</div>"
      ],
      "text/plain": [
       "   ID    Gene             Variation  Class\n",
       "0   0  FAM58A  Truncating Mutations      1\n",
       "1   1     CBL                 W802*      2\n",
       "2   2     CBL                 Q249E      2\n",
       "3   3     CBL                 N454D      3\n",
       "4   4     CBL                 L399V      4"
      ]
     },
     "execution_count": 2,
     "metadata": {},
     "output_type": "execute_result"
    }
   ],
   "source": [
    "data = pd.read_csv('training_variants')\n",
    "print('Number of data points : ', data.shape[0])\n",
    "print('Number of features : ', data.shape[1])\n",
    "print('Features : ', data.columns.values)\n",
    "data.head()"
   ]
  },
  {
   "cell_type": "markdown",
   "metadata": {},
   "source": [
    "<p>\n",
    "    training/training_variants is a comma separated file containing the description of the genetic mutations used for training. <br>\n",
    "    Fields are \n",
    "    <ul>\n",
    "        <li><b>ID : </b>the id of the row used to link the mutation to the clinical evidence</li>\n",
    "        <li><b>Gene : </b>the gene where this genetic mutation is located </li>\n",
    "        <li><b>Variation : </b>the aminoacid change for this mutations </li>\n",
    "        <li><b>Class :</b> 1-9 the class this genetic mutation has been classified on</li>\n",
    "    </ul>"
   ]
  },
  {
   "cell_type": "markdown",
   "metadata": {},
   "source": [
    "<h3>3.1.2. Reading Text Data</h3>"
   ]
  },
  {
   "cell_type": "code",
   "execution_count": 3,
   "metadata": {},
   "outputs": [
    {
     "name": "stdout",
     "output_type": "stream",
     "text": [
      "Number of data points :  3321\n",
      "Number of features :  2\n",
      "Features :  ['ID' 'TEXT']\n"
     ]
    },
    {
     "data": {
      "text/html": [
       "<div>\n",
       "<style scoped>\n",
       "    .dataframe tbody tr th:only-of-type {\n",
       "        vertical-align: middle;\n",
       "    }\n",
       "\n",
       "    .dataframe tbody tr th {\n",
       "        vertical-align: top;\n",
       "    }\n",
       "\n",
       "    .dataframe thead th {\n",
       "        text-align: right;\n",
       "    }\n",
       "</style>\n",
       "<table border=\"1\" class=\"dataframe\">\n",
       "  <thead>\n",
       "    <tr style=\"text-align: right;\">\n",
       "      <th></th>\n",
       "      <th>ID</th>\n",
       "      <th>TEXT</th>\n",
       "    </tr>\n",
       "  </thead>\n",
       "  <tbody>\n",
       "    <tr>\n",
       "      <th>0</th>\n",
       "      <td>0</td>\n",
       "      <td>Cyclin-dependent kinases (CDKs) regulate a var...</td>\n",
       "    </tr>\n",
       "    <tr>\n",
       "      <th>1</th>\n",
       "      <td>1</td>\n",
       "      <td>Abstract Background  Non-small cell lung canc...</td>\n",
       "    </tr>\n",
       "    <tr>\n",
       "      <th>2</th>\n",
       "      <td>2</td>\n",
       "      <td>Abstract Background  Non-small cell lung canc...</td>\n",
       "    </tr>\n",
       "    <tr>\n",
       "      <th>3</th>\n",
       "      <td>3</td>\n",
       "      <td>Recent evidence has demonstrated that acquired...</td>\n",
       "    </tr>\n",
       "    <tr>\n",
       "      <th>4</th>\n",
       "      <td>4</td>\n",
       "      <td>Oncogenic mutations in the monomeric Casitas B...</td>\n",
       "    </tr>\n",
       "  </tbody>\n",
       "</table>\n",
       "</div>"
      ],
      "text/plain": [
       "   ID                                               TEXT\n",
       "0   0  Cyclin-dependent kinases (CDKs) regulate a var...\n",
       "1   1   Abstract Background  Non-small cell lung canc...\n",
       "2   2   Abstract Background  Non-small cell lung canc...\n",
       "3   3  Recent evidence has demonstrated that acquired...\n",
       "4   4  Oncogenic mutations in the monomeric Casitas B..."
      ]
     },
     "execution_count": 3,
     "metadata": {},
     "output_type": "execute_result"
    }
   ],
   "source": [
    "# note the seprator in this file\n",
    "data_text =pd.read_csv(\"training_text\",sep=\"\\|\\|\",engine=\"python\",names=[\"ID\",\"TEXT\"],skiprows=1)\n",
    "print('Number of data points : ', data_text.shape[0])\n",
    "print('Number of features : ', data_text.shape[1])\n",
    "print('Features : ', data_text.columns.values)\n",
    "data_text.head()"
   ]
  },
  {
   "cell_type": "markdown",
   "metadata": {},
   "source": [
    "<h3>3.1.3. Preprocessing of text</h3>"
   ]
  },
  {
   "cell_type": "code",
   "execution_count": 4,
   "metadata": {},
   "outputs": [
    {
     "name": "stderr",
     "output_type": "stream",
     "text": [
      "[nltk_data] Downloading package stopwords to\n",
      "[nltk_data]     C:\\Users\\vineet\\AppData\\Roaming\\nltk_data...\n",
      "[nltk_data]   Package stopwords is already up-to-date!\n"
     ]
    }
   ],
   "source": [
    "# loading stop words from nltk library\n",
    "import nltk\n",
    "nltk.download('stopwords')\n",
    "stop_words = set(stopwords.words('english'))\n",
    "\n",
    "\n",
    "def nlp_preprocessing(total_text, index, column):\n",
    "    if type(total_text) is not int:\n",
    "        string = \"\"\n",
    "        # replace every special char with space\n",
    "        total_text = re.sub('[^a-zA-Z0-9\\n]', ' ', total_text)\n",
    "        # replace multiple spaces with single space\n",
    "        total_text = re.sub('\\s+',' ', total_text)\n",
    "        # converting all the chars into lower-case.\n",
    "        total_text = total_text.lower()\n",
    "        \n",
    "        for word in total_text.split():\n",
    "        # if the word is a not a stop word then retain that word from the data\n",
    "            if not word in stop_words:\n",
    "                string += word + \" \"\n",
    "        \n",
    "        data_text[column][index] = string"
   ]
  },
  {
   "cell_type": "code",
   "execution_count": 5,
   "metadata": {},
   "outputs": [
    {
     "name": "stdout",
     "output_type": "stream",
     "text": [
      "there is no text description for id: 1109\n",
      "there is no text description for id: 1277\n",
      "there is no text description for id: 1407\n",
      "there is no text description for id: 1639\n",
      "there is no text description for id: 2755\n",
      "Time took for preprocessing the text : 186.707121023 seconds\n"
     ]
    }
   ],
   "source": [
    "#text processing stage.\n",
    "start_time = time.clock()\n",
    "for index, row in data_text.iterrows():\n",
    "    if type(row['TEXT']) is str:\n",
    "        nlp_preprocessing(row['TEXT'], index, 'TEXT')\n",
    "    else:\n",
    "        print(\"there is no text description for id:\",index)\n",
    "print('Time took for preprocessing the text :',time.clock() - start_time, \"seconds\")"
   ]
  },
  {
   "cell_type": "code",
   "execution_count": 6,
   "metadata": {},
   "outputs": [
    {
     "data": {
      "text/html": [
       "<div>\n",
       "<style scoped>\n",
       "    .dataframe tbody tr th:only-of-type {\n",
       "        vertical-align: middle;\n",
       "    }\n",
       "\n",
       "    .dataframe tbody tr th {\n",
       "        vertical-align: top;\n",
       "    }\n",
       "\n",
       "    .dataframe thead th {\n",
       "        text-align: right;\n",
       "    }\n",
       "</style>\n",
       "<table border=\"1\" class=\"dataframe\">\n",
       "  <thead>\n",
       "    <tr style=\"text-align: right;\">\n",
       "      <th></th>\n",
       "      <th>ID</th>\n",
       "      <th>Gene</th>\n",
       "      <th>Variation</th>\n",
       "      <th>Class</th>\n",
       "      <th>TEXT</th>\n",
       "    </tr>\n",
       "  </thead>\n",
       "  <tbody>\n",
       "    <tr>\n",
       "      <th>0</th>\n",
       "      <td>0</td>\n",
       "      <td>FAM58A</td>\n",
       "      <td>Truncating Mutations</td>\n",
       "      <td>1</td>\n",
       "      <td>cyclin dependent kinases cdks regulate variety...</td>\n",
       "    </tr>\n",
       "    <tr>\n",
       "      <th>1</th>\n",
       "      <td>1</td>\n",
       "      <td>CBL</td>\n",
       "      <td>W802*</td>\n",
       "      <td>2</td>\n",
       "      <td>abstract background non small cell lung cancer...</td>\n",
       "    </tr>\n",
       "    <tr>\n",
       "      <th>2</th>\n",
       "      <td>2</td>\n",
       "      <td>CBL</td>\n",
       "      <td>Q249E</td>\n",
       "      <td>2</td>\n",
       "      <td>abstract background non small cell lung cancer...</td>\n",
       "    </tr>\n",
       "    <tr>\n",
       "      <th>3</th>\n",
       "      <td>3</td>\n",
       "      <td>CBL</td>\n",
       "      <td>N454D</td>\n",
       "      <td>3</td>\n",
       "      <td>recent evidence demonstrated acquired uniparen...</td>\n",
       "    </tr>\n",
       "    <tr>\n",
       "      <th>4</th>\n",
       "      <td>4</td>\n",
       "      <td>CBL</td>\n",
       "      <td>L399V</td>\n",
       "      <td>4</td>\n",
       "      <td>oncogenic mutations monomeric casitas b lineag...</td>\n",
       "    </tr>\n",
       "  </tbody>\n",
       "</table>\n",
       "</div>"
      ],
      "text/plain": [
       "   ID    Gene             Variation  Class  \\\n",
       "0   0  FAM58A  Truncating Mutations      1   \n",
       "1   1     CBL                 W802*      2   \n",
       "2   2     CBL                 Q249E      2   \n",
       "3   3     CBL                 N454D      3   \n",
       "4   4     CBL                 L399V      4   \n",
       "\n",
       "                                                TEXT  \n",
       "0  cyclin dependent kinases cdks regulate variety...  \n",
       "1  abstract background non small cell lung cancer...  \n",
       "2  abstract background non small cell lung cancer...  \n",
       "3  recent evidence demonstrated acquired uniparen...  \n",
       "4  oncogenic mutations monomeric casitas b lineag...  "
      ]
     },
     "execution_count": 6,
     "metadata": {},
     "output_type": "execute_result"
    }
   ],
   "source": [
    "#merging both gene_variations and text data based on ID\n",
    "result = pd.merge(data, data_text,on='ID', how='left')\n",
    "result.head()"
   ]
  },
  {
   "cell_type": "code",
   "execution_count": 7,
   "metadata": {},
   "outputs": [
    {
     "data": {
      "text/html": [
       "<div>\n",
       "<style scoped>\n",
       "    .dataframe tbody tr th:only-of-type {\n",
       "        vertical-align: middle;\n",
       "    }\n",
       "\n",
       "    .dataframe tbody tr th {\n",
       "        vertical-align: top;\n",
       "    }\n",
       "\n",
       "    .dataframe thead th {\n",
       "        text-align: right;\n",
       "    }\n",
       "</style>\n",
       "<table border=\"1\" class=\"dataframe\">\n",
       "  <thead>\n",
       "    <tr style=\"text-align: right;\">\n",
       "      <th></th>\n",
       "      <th>ID</th>\n",
       "      <th>Gene</th>\n",
       "      <th>Variation</th>\n",
       "      <th>Class</th>\n",
       "      <th>TEXT</th>\n",
       "    </tr>\n",
       "  </thead>\n",
       "  <tbody>\n",
       "    <tr>\n",
       "      <th>1109</th>\n",
       "      <td>1109</td>\n",
       "      <td>FANCA</td>\n",
       "      <td>S1088F</td>\n",
       "      <td>1</td>\n",
       "      <td>NaN</td>\n",
       "    </tr>\n",
       "    <tr>\n",
       "      <th>1277</th>\n",
       "      <td>1277</td>\n",
       "      <td>ARID5B</td>\n",
       "      <td>Truncating Mutations</td>\n",
       "      <td>1</td>\n",
       "      <td>NaN</td>\n",
       "    </tr>\n",
       "    <tr>\n",
       "      <th>1407</th>\n",
       "      <td>1407</td>\n",
       "      <td>FGFR3</td>\n",
       "      <td>K508M</td>\n",
       "      <td>6</td>\n",
       "      <td>NaN</td>\n",
       "    </tr>\n",
       "    <tr>\n",
       "      <th>1639</th>\n",
       "      <td>1639</td>\n",
       "      <td>FLT1</td>\n",
       "      <td>Amplification</td>\n",
       "      <td>6</td>\n",
       "      <td>NaN</td>\n",
       "    </tr>\n",
       "    <tr>\n",
       "      <th>2755</th>\n",
       "      <td>2755</td>\n",
       "      <td>BRAF</td>\n",
       "      <td>G596C</td>\n",
       "      <td>7</td>\n",
       "      <td>NaN</td>\n",
       "    </tr>\n",
       "  </tbody>\n",
       "</table>\n",
       "</div>"
      ],
      "text/plain": [
       "        ID    Gene             Variation  Class TEXT\n",
       "1109  1109   FANCA                S1088F      1  NaN\n",
       "1277  1277  ARID5B  Truncating Mutations      1  NaN\n",
       "1407  1407   FGFR3                 K508M      6  NaN\n",
       "1639  1639    FLT1         Amplification      6  NaN\n",
       "2755  2755    BRAF                 G596C      7  NaN"
      ]
     },
     "execution_count": 7,
     "metadata": {},
     "output_type": "execute_result"
    }
   ],
   "source": [
    "result[result.isnull().any(axis=1)]"
   ]
  },
  {
   "cell_type": "code",
   "execution_count": 8,
   "metadata": {},
   "outputs": [],
   "source": [
    "result.loc[result['TEXT'].isnull(),'TEXT'] = result['Gene'] +' '+result['Variation']"
   ]
  },
  {
   "cell_type": "code",
   "execution_count": 9,
   "metadata": {},
   "outputs": [
    {
     "data": {
      "text/html": [
       "<div>\n",
       "<style scoped>\n",
       "    .dataframe tbody tr th:only-of-type {\n",
       "        vertical-align: middle;\n",
       "    }\n",
       "\n",
       "    .dataframe tbody tr th {\n",
       "        vertical-align: top;\n",
       "    }\n",
       "\n",
       "    .dataframe thead th {\n",
       "        text-align: right;\n",
       "    }\n",
       "</style>\n",
       "<table border=\"1\" class=\"dataframe\">\n",
       "  <thead>\n",
       "    <tr style=\"text-align: right;\">\n",
       "      <th></th>\n",
       "      <th>ID</th>\n",
       "      <th>Gene</th>\n",
       "      <th>Variation</th>\n",
       "      <th>Class</th>\n",
       "      <th>TEXT</th>\n",
       "    </tr>\n",
       "  </thead>\n",
       "  <tbody>\n",
       "    <tr>\n",
       "      <th>1277</th>\n",
       "      <td>1277</td>\n",
       "      <td>ARID5B</td>\n",
       "      <td>Truncating Mutations</td>\n",
       "      <td>1</td>\n",
       "      <td>ARID5B Truncating Mutations</td>\n",
       "    </tr>\n",
       "  </tbody>\n",
       "</table>\n",
       "</div>"
      ],
      "text/plain": [
       "        ID    Gene             Variation  Class                         TEXT\n",
       "1277  1277  ARID5B  Truncating Mutations      1  ARID5B Truncating Mutations"
      ]
     },
     "execution_count": 9,
     "metadata": {},
     "output_type": "execute_result"
    }
   ],
   "source": [
    "result[result['ID']==1277]"
   ]
  },
  {
   "cell_type": "markdown",
   "metadata": {},
   "source": [
    "<h3>3.1.4. Test, Train and Cross Validation Split</h3>"
   ]
  },
  {
   "cell_type": "markdown",
   "metadata": {},
   "source": [
    "<h4>3.1.4.1. Splitting data into train, test and cross validation (64:20:16)</h4>"
   ]
  },
  {
   "cell_type": "code",
   "execution_count": 10,
   "metadata": {},
   "outputs": [],
   "source": [
    "y_true = result['Class'].values\n",
    "result.Gene      = result.Gene.str.replace('\\s+', '_')\n",
    "result.Variation = result.Variation.str.replace('\\s+', '_')\n",
    "\n",
    "# split the data into test and train by maintaining same distribution of output varaible 'y_true' [stratify=y_true]\n",
    "X_train, test_df, y_train, y_test = train_test_split(result, y_true, stratify=y_true, test_size=0.2)\n",
    "# split the train data into train and cross validation by maintaining same distribution of output varaible 'y_train' [stratify=y_train]\n",
    "train_df, cv_df, y_train, y_cv = train_test_split(X_train, y_train, stratify=y_train, test_size=0.2)"
   ]
  },
  {
   "cell_type": "markdown",
   "metadata": {},
   "source": [
    "<p> We split the data into train, test and cross validation data sets, preserving the ratio of class distribution in the original data set  </p>"
   ]
  },
  {
   "cell_type": "code",
   "execution_count": 11,
   "metadata": {},
   "outputs": [
    {
     "name": "stdout",
     "output_type": "stream",
     "text": [
      "Number of data points in train data: 2124\n",
      "Number of data points in test data: 665\n",
      "Number of data points in cross validation data: 532\n"
     ]
    }
   ],
   "source": [
    "print('Number of data points in train data:', train_df.shape[0])\n",
    "print('Number of data points in test data:', test_df.shape[0])\n",
    "print('Number of data points in cross validation data:', cv_df.shape[0])"
   ]
  },
  {
   "cell_type": "markdown",
   "metadata": {},
   "source": [
    "<h4>3.1.4.2. Distribution of y_i's in Train, Test and Cross Validation datasets</h4>"
   ]
  },
  {
   "cell_type": "code",
   "execution_count": 12,
   "metadata": {},
   "outputs": [
    {
     "data": {
      "image/png": "[encoded data removed]",
      "text/plain": [
       "<Figure size 432x288 with 1 Axes>"
      ]
     },
     "metadata": {
      "needs_background": "light"
     },
     "output_type": "display_data"
    },
    {
     "name": "stdout",
     "output_type": "stream",
     "text": [
      "Number of data points in class 7 : 609 ( 28.672 %)\n",
      "Number of data points in class 4 : 439 ( 20.669 %)\n",
      "Number of data points in class 1 : 363 ( 17.09 %)\n",
      "Number of data points in class 2 : 289 ( 13.606 %)\n",
      "Number of data points in class 6 : 176 ( 8.286 %)\n",
      "Number of data points in class 5 : 155 ( 7.298 %)\n",
      "Number of data points in class 3 : 57 ( 2.684 %)\n",
      "Number of data points in class 9 : 24 ( 1.13 %)\n",
      "Number of data points in class 8 : 12 ( 0.565 %)\n",
      "--------------------------------------------------------------------------------\n"
     ]
    },
    {
     "data": {
      "image/png": "[encoded data removed]",
      "text/plain": [
       "<Figure size 432x288 with 1 Axes>"
      ]
     },
     "metadata": {
      "needs_background": "light"
     },
     "output_type": "display_data"
    },
    {
     "name": "stdout",
     "output_type": "stream",
     "text": [
      "Number of data points in class 7 : 191 ( 28.722 %)\n",
      "Number of data points in class 4 : 137 ( 20.602 %)\n",
      "Number of data points in class 1 : 114 ( 17.143 %)\n",
      "Number of data points in class 2 : 91 ( 13.684 %)\n",
      "Number of data points in class 6 : 55 ( 8.271 %)\n",
      "Number of data points in class 5 : 48 ( 7.218 %)\n",
      "Number of data points in class 3 : 18 ( 2.707 %)\n",
      "Number of data points in class 9 : 7 ( 1.053 %)\n",
      "Number of data points in class 8 : 4 ( 0.602 %)\n",
      "--------------------------------------------------------------------------------\n"
     ]
    },
    {
     "data": {
      "image/png": "[encoded data removed]",
      "text/plain": [
       "<Figure size 432x288 with 1 Axes>"
      ]
     },
     "metadata": {
      "needs_background": "light"
     },
     "output_type": "display_data"
    },
    {
     "name": "stdout",
     "output_type": "stream",
     "text": [
      "Number of data points in class 7 : 153 ( 28.759 %)\n",
      "Number of data points in class 4 : 110 ( 20.677 %)\n",
      "Number of data points in class 1 : 91 ( 17.105 %)\n",
      "Number of data points in class 2 : 72 ( 13.534 %)\n",
      "Number of data points in class 6 : 44 ( 8.271 %)\n",
      "Number of data points in class 5 : 39 ( 7.331 %)\n",
      "Number of data points in class 3 : 14 ( 2.632 %)\n",
      "Number of data points in class 9 : 6 ( 1.128 %)\n",
      "Number of data points in class 8 : 3 ( 0.564 %)\n"
     ]
    }
   ],
   "source": [
    "# it returns a dict, keys as class labels and values as the number of data points in that class\n",
    "train_class_distribution = train_df['Class'].value_counts().sort_index()\n",
    "test_class_distribution = test_df['Class'].value_counts().sort_index()\n",
    "cv_class_distribution = cv_df['Class'].value_counts().sort_index()\n",
    "\n",
    "my_colors = 'rgbkymc'\n",
    "paired_colors = plt.cm.Paired(range(len(train_class_distribution)))\n",
    "train_class_distribution.plot(kind='bar',color=paired_colors)\n",
    "plt.xlabel('Class')\n",
    "plt.ylabel('Data points per Class')\n",
    "plt.title('Distribution of yi in train data')\n",
    "plt.grid()\n",
    "plt.show()\n",
    "\n",
    "# ref: argsort https://docs.scipy.org/doc/numpy/reference/generated/numpy.argsort.html\n",
    "# -(train_class_distribution.values): the minus sign will give us in decreasing order\n",
    "sorted_yi = np.argsort(-train_class_distribution.values)\n",
    "for i in sorted_yi:\n",
    "    print('Number of data points in class', i+1, ':',train_class_distribution.values[i], '(', np.round((train_class_distribution.values[i]/train_df.shape[0]*100), 3), '%)')\n",
    "\n",
    "    \n",
    "print('-'*80)\n",
    "my_colors = 'rgbkymc'\n",
    "paired_colors = plt.cm.Paired(range(len(test_class_distribution)))\n",
    "test_class_distribution.plot(kind='bar',color=paired_colors)\n",
    "plt.xlabel('Class')\n",
    "plt.ylabel('Data points per Class')\n",
    "plt.title('Distribution of yi in test data')\n",
    "plt.grid()\n",
    "plt.show()\n",
    "\n",
    "# ref: argsort https://docs.scipy.org/doc/numpy/reference/generated/numpy.argsort.html\n",
    "# -(train_class_distribution.values): the minus sign will give us in decreasing order\n",
    "sorted_yi = np.argsort(-test_class_distribution.values)\n",
    "for i in sorted_yi:\n",
    "    print('Number of data points in class', i+1, ':',test_class_distribution.values[i], '(', np.round((test_class_distribution.values[i]/test_df.shape[0]*100), 3), '%)')\n",
    "\n",
    "print('-'*80)\n",
    "my_colors = 'rgbkymc'\n",
    "paired_colors = plt.cm.Paired(range(len(cv_class_distribution)))\n",
    "cv_class_distribution.plot(kind='bar',color=paired_colors)\n",
    "plt.xlabel('Class')\n",
    "plt.ylabel('Data points per Class')\n",
    "plt.title('Distribution of yi in cross validation data')\n",
    "plt.grid()\n",
    "plt.show()\n",
    "\n",
    "# ref: argsort https://docs.scipy.org/doc/numpy/reference/generated/numpy.argsort.html\n",
    "# -(train_class_distribution.values): the minus sign will give us in decreasing order\n",
    "sorted_yi = np.argsort(-train_class_distribution.values)\n",
    "for i in sorted_yi:\n",
    "    print('Number of data points in class', i+1, ':',cv_class_distribution.values[i], '(', np.round((cv_class_distribution.values[i]/cv_df.shape[0]*100), 3), '%)')\n"
   ]
  },
  {
   "cell_type": "markdown",
   "metadata": {},
   "source": [
    "<h2>3.2 Prediction using a 'Random' Model</h2>"
   ]
  },
  {
   "cell_type": "markdown",
   "metadata": {},
   "source": [
    "<p style=\"font-size:16px\"> In a 'Random' Model, we generate the NINE class probabilites randomly such that they sum to 1. </p>"
   ]
  },
  {
   "cell_type": "code",
   "execution_count": 13,
   "metadata": {},
   "outputs": [],
   "source": [
    "# This function plots the confusion matrices given y_i, y_i_hat.\n",
    "def plot_confusion_matrix(test_y, predict_y):\n",
    "    C = confusion_matrix(test_y, predict_y)\n",
    "    # C = 9,9 matrix, each cell (i,j) represents number of points of class i are predicted class j\n",
    "    \n",
    "    A =(((C.T)/(C.sum(axis=1))).T)\n",
    "    #divid each element of the confusion matrix with the sum of elements in that column\n",
    "    \n",
    "    # C = [[1, 2],\n",
    "    #     [3, 4]]\n",
    "    # C.T = [[1, 3],\n",
    "    #        [2, 4]]\n",
    "    # C.sum(axis = 1)  axis=0 corresonds to columns and axis=1 corresponds to rows in two diamensional array\n",
    "    # C.sum(axix =1) = [[3, 7]]\n",
    "    # ((C.T)/(C.sum(axis=1))) = [[1/3, 3/7]\n",
    "    #                           [2/3, 4/7]]\n",
    "\n",
    "    # ((C.T)/(C.sum(axis=1))).T = [[1/3, 2/3]\n",
    "    #                           [3/7, 4/7]]\n",
    "    # sum of row elements = 1\n",
    "    \n",
    "    B =(C/C.sum(axis=0))\n",
    "    #divid each element of the confusion matrix with the sum of elements in that row\n",
    "    # C = [[1, 2],\n",
    "    #     [3, 4]]\n",
    "    # C.sum(axis = 0)  axis=0 corresonds to columns and axis=1 corresponds to rows in two diamensional array\n",
    "    # C.sum(axix =0) = [[4, 6]]\n",
    "    # (C/C.sum(axis=0)) = [[1/4, 2/6],\n",
    "    #                      [3/4, 4/6]] \n",
    "    \n",
    "    labels = [1,2,3,4,5,6,7,8,9]\n",
    "    # representing A in heatmap format\n",
    "    print(\"-\"*20, \"Confusion matrix\", \"-\"*20)\n",
    "    plt.figure(figsize=(20,7))\n",
    "    sns.heatmap(C, annot=True, cmap=\"YlGnBu\", fmt=\".3f\", xticklabels=labels, yticklabels=labels)\n",
    "    plt.xlabel('Predicted Class')\n",
    "    plt.ylabel('Original Class')\n",
    "    plt.show()\n",
    "\n",
    "    print(\"-\"*20, \"Precision matrix (Columm Sum=1)\", \"-\"*20)\n",
    "    plt.figure(figsize=(20,7))\n",
    "    sns.heatmap(B, annot=True, cmap=\"YlGnBu\", fmt=\".3f\", xticklabels=labels, yticklabels=labels)\n",
    "    plt.xlabel('Predicted Class')\n",
    "    plt.ylabel('Original Class')\n",
    "    plt.show()\n",
    "    \n",
    "    # representing B in heatmap format\n",
    "    print(\"-\"*20, \"Recall matrix (Row sum=1)\", \"-\"*20)\n",
    "    plt.figure(figsize=(20,7))\n",
    "    sns.heatmap(A, annot=True, cmap=\"YlGnBu\", fmt=\".3f\", xticklabels=labels, yticklabels=labels)\n",
    "    plt.xlabel('Predicted Class')\n",
    "    plt.ylabel('Original Class')\n",
    "    plt.show()"
   ]
  },
  {
   "cell_type": "code",
   "execution_count": 14,
   "metadata": {},
   "outputs": [
    {
     "name": "stdout",
     "output_type": "stream",
     "text": [
      "Log loss on Cross Validation Data using Random Model 2.4262401519170607\n",
      "Log loss on Test Data using Random Model 2.492259010551917\n",
      "-------------------- Confusion matrix --------------------\n"
     ]
    },
    {
     "data": {
      "image/png": "[encoded data removed]",
      "text/plain": [
       "<Figure size 1440x504 with 2 Axes>"
      ]
     },
     "metadata": {
      "needs_background": "light"
     },
     "output_type": "display_data"
    },
    {
     "name": "stdout",
     "output_type": "stream",
     "text": [
      "-------------------- Precision matrix (Columm Sum=1) --------------------\n"
     ]
    },
    {
     "data": {
      "image/png": "[encoded data removed]",
      "text/plain": [
       "<Figure size 1440x504 with 2 Axes>"
      ]
     },
     "metadata": {
      "needs_background": "light"
     },
     "output_type": "display_data"
    },
    {
     "name": "stdout",
     "output_type": "stream",
     "text": [
      "-------------------- Recall matrix (Row sum=1) --------------------\n"
     ]
    },
    {
     "data": {
      "image/png": "[encoded data removed]",
      "text/plain": [
       "<Figure size 1440x504 with 2 Axes>"
      ]
     },
     "metadata": {
      "needs_background": "light"
     },
     "output_type": "display_data"
    }
   ],
   "source": [
    "# we need to generate 9 numbers and the sum of numbers should be 1\n",
    "# one solution is to genarate 9 numbers and divide each of the numbers by their sum\n",
    "# ref: https://stackoverflow.com/a/18662466/4084039\n",
    "test_data_len = test_df.shape[0]\n",
    "cv_data_len = cv_df.shape[0]\n",
    "\n",
    "# we create a output array that has exactly same size as the CV data\n",
    "cv_predicted_y = np.zeros((cv_data_len,9))\n",
    "for i in range(cv_data_len):\n",
    "    rand_probs = np.random.rand(1,9)\n",
    "    cv_predicted_y[i] = ((rand_probs/sum(sum(rand_probs)))[0])\n",
    "print(\"Log loss on Cross Validation Data using Random Model\",log_loss(y_cv,cv_predicted_y, eps=1e-15))\n",
    "\n",
    "\n",
    "# Test-Set error.\n",
    "#we create a output array that has exactly same as the test data\n",
    "test_predicted_y = np.zeros((test_data_len,9))\n",
    "for i in range(test_data_len):\n",
    "    rand_probs = np.random.rand(1,9)\n",
    "    test_predicted_y[i] = ((rand_probs/sum(sum(rand_probs)))[0])\n",
    "print(\"Log loss on Test Data using Random Model\",log_loss(y_test,test_predicted_y, eps=1e-15))\n",
    "\n",
    "predicted_y =np.argmax(test_predicted_y, axis=1)\n",
    "plot_confusion_matrix(y_test, predicted_y+1)"
   ]
  },
  {
   "cell_type": "markdown",
   "metadata": {},
   "source": [
    "<h2>3.3 Univariate Analysis</h2>"
   ]
  },
  {
   "cell_type": "code",
   "execution_count": 15,
   "metadata": {},
   "outputs": [],
   "source": [
    "# code for response coding with Laplace smoothing.\n",
    "# alpha : used for laplace smoothing\n",
    "# feature: ['gene', 'variation']\n",
    "# df: ['train_df', 'test_df', 'cv_df']\n",
    "# algorithm\n",
    "# ----------\n",
    "# Consider all unique values and the number of occurances of given feature in train data dataframe\n",
    "# build a vector (1*9) , the first element = (number of times it occured in class1 + 10*alpha / number of time it occurred in total data+90*alpha)\n",
    "# gv_dict is like a look up table, for every gene it store a (1*9) representation of it\n",
    "# for a value of feature in df:\n",
    "# if it is in train data:\n",
    "# we add the vector that was stored in 'gv_dict' look up table to 'gv_fea'\n",
    "# if it is not there is train:\n",
    "# we add [1/9, 1/9, 1/9, 1/9,1/9, 1/9, 1/9, 1/9, 1/9] to 'gv_fea'\n",
    "# return 'gv_fea'\n",
    "# ----------------------\n",
    "\n",
    "# get_gv_fea_dict: Get Gene varaition Feature Dict\n",
    "def get_gv_fea_dict(alpha, feature, df):\n",
    "    # value_count: it contains a dict like\n",
    "    # print(train_df['Gene'].value_counts())\n",
    "    # output:\n",
    "    #        {BRCA1      174\n",
    "    #         TP53       106\n",
    "    #         EGFR        86\n",
    "    #         BRCA2       75\n",
    "    #         PTEN        69\n",
    "    #         KIT         61\n",
    "    #         BRAF        60\n",
    "    #         ERBB2       47\n",
    "    #         PDGFRA      46\n",
    "    #         ...}\n",
    "    # print(train_df['Variation'].value_counts())\n",
    "    # output:\n",
    "    # {\n",
    "    # Truncating_Mutations                     63\n",
    "    # Deletion                                 43\n",
    "    # Amplification                            43\n",
    "    # Fusions                                  22\n",
    "    # Overexpression                            3\n",
    "    # E17K                                      3\n",
    "    # Q61L                                      3\n",
    "    # S222D                                     2\n",
    "    # P130S                                     2\n",
    "    # ...\n",
    "    # }\n",
    "    value_count = train_df[feature].value_counts()\n",
    "    \n",
    "    # gv_dict : Gene Variation Dict, which contains the probability array for each gene/variation\n",
    "    gv_dict = dict()\n",
    "    \n",
    "    # denominator will contain the number of time that particular feature occured in whole data\n",
    "    for i, denominator in value_count.items():\n",
    "        # vec will contain (p(yi==1/Gi) probability of gene/variation belongs to perticular class\n",
    "        # vec is 9 diamensional vector\n",
    "        vec = []\n",
    "        for k in range(1,10):\n",
    "            # print(train_df.loc[(train_df['Class']==1) & (train_df['Gene']=='BRCA1')])\n",
    "            #         ID   Gene             Variation  Class  \n",
    "            # 2470  2470  BRCA1                S1715C      1   \n",
    "            # 2486  2486  BRCA1                S1841R      1   \n",
    "            # 2614  2614  BRCA1                   M1R      1   \n",
    "            # 2432  2432  BRCA1                L1657P      1   \n",
    "            # 2567  2567  BRCA1                T1685A      1   \n",
    "            # 2583  2583  BRCA1                E1660G      1   \n",
    "            # 2634  2634  BRCA1                W1718L      1   \n",
    "            # cls_cnt.shape[0] will return the number of rows\n",
    "\n",
    "            cls_cnt = train_df.loc[(train_df['Class']==k) & (train_df[feature]==i)]\n",
    "            \n",
    "            # cls_cnt.shape[0](numerator) will contain the number of time that particular feature occured in whole data\n",
    "            vec.append((cls_cnt.shape[0] + alpha*10)/ (denominator + 90*alpha))\n",
    "\n",
    "        # we are adding the gene/variation to the dict as key and vec as value\n",
    "        gv_dict[i]=vec\n",
    "    return gv_dict\n",
    "\n",
    "# Get Gene variation feature\n",
    "def get_gv_feature(alpha, feature, df):\n",
    "    # print(gv_dict)\n",
    "    #     {'BRCA1': [0.20075757575757575, 0.03787878787878788, 0.068181818181818177, 0.13636363636363635, 0.25, 0.19318181818181818, 0.03787878787878788, 0.03787878787878788, 0.03787878787878788], \n",
    "    #      'TP53': [0.32142857142857145, 0.061224489795918366, 0.061224489795918366, 0.27040816326530615, 0.061224489795918366, 0.066326530612244902, 0.051020408163265307, 0.051020408163265307, 0.056122448979591837], \n",
    "    #      'EGFR': [0.056818181818181816, 0.21590909090909091, 0.0625, 0.068181818181818177, 0.068181818181818177, 0.0625, 0.34659090909090912, 0.0625, 0.056818181818181816], \n",
    "    #      'BRCA2': [0.13333333333333333, 0.060606060606060608, 0.060606060606060608, 0.078787878787878782, 0.1393939393939394, 0.34545454545454546, 0.060606060606060608, 0.060606060606060608, 0.060606060606060608], \n",
    "    #      'PTEN': [0.069182389937106917, 0.062893081761006289, 0.069182389937106917, 0.46540880503144655, 0.075471698113207544, 0.062893081761006289, 0.069182389937106917, 0.062893081761006289, 0.062893081761006289], \n",
    "    #      'KIT': [0.066225165562913912, 0.25165562913907286, 0.072847682119205295, 0.072847682119205295, 0.066225165562913912, 0.066225165562913912, 0.27152317880794702, 0.066225165562913912, 0.066225165562913912], \n",
    "    #      'BRAF': [0.066666666666666666, 0.17999999999999999, 0.073333333333333334, 0.073333333333333334, 0.093333333333333338, 0.080000000000000002, 0.29999999999999999, 0.066666666666666666, 0.066666666666666666],\n",
    "    #      ...\n",
    "    #     }\n",
    "    gv_dict = get_gv_fea_dict(alpha, feature, df)\n",
    "    # value_count is similar in get_gv_fea_dict\n",
    "    value_count = train_df[feature].value_counts()\n",
    "    \n",
    "    # gv_fea: Gene_variation feature, it will contain the feature for each feature value in the data\n",
    "    gv_fea = []\n",
    "    # for every feature values in the given data frame we will check if it is there in the train data then we will add the feature to gv_fea\n",
    "    # if not we will add [1/9,1/9,1/9,1/9,1/9,1/9,1/9,1/9,1/9] to gv_fea\n",
    "    for index, row in df.iterrows():\n",
    "        if row[feature] in dict(value_count).keys():\n",
    "            gv_fea.append(gv_dict[row[feature]])\n",
    "        else:\n",
    "            gv_fea.append([1/9,1/9,1/9,1/9,1/9,1/9,1/9,1/9,1/9])\n",
    "#             gv_fea.append([-1,-1,-1,-1,-1,-1,-1,-1,-1])\n",
    "    return gv_fea"
   ]
  },
  {
   "cell_type": "markdown",
   "metadata": {},
   "source": [
    "when we caculate the probability of a feature belongs to any particular class, we apply laplace smoothing\n",
    "<li>(numerator + 10\\*alpha) / (denominator + 90\\*alpha) </li>"
   ]
  },
  {
   "cell_type": "markdown",
   "metadata": {},
   "source": [
    "<h3>3.2.1 Univariate Analysis on Gene Feature</h3>"
   ]
  },
  {
   "cell_type": "markdown",
   "metadata": {},
   "source": [
    "<p style=\"font-size:18px;\"> <b>Q1.</b> Gene, What type of feature it is ?</p>\n",
    "<p style=\"font-size:16px;\"><b>Ans.</b> Gene is a categorical variable </p>\n",
    "<p style=\"font-size:18px;\"> <b>Q2.</b> How many categories are there and How they are distributed?</p>"
   ]
  },
  {
   "cell_type": "code",
   "execution_count": 16,
   "metadata": {},
   "outputs": [
    {
     "name": "stdout",
     "output_type": "stream",
     "text": [
      "Number of Unique Genes : 225\n",
      "BRCA1     167\n",
      "TP53      101\n",
      "EGFR       96\n",
      "BRCA2      83\n",
      "KIT        78\n",
      "PTEN       77\n",
      "BRAF       60\n",
      "ALK        49\n",
      "ERBB2      42\n",
      "PDGFRA     40\n",
      "Name: Gene, dtype: int64\n"
     ]
    }
   ],
   "source": [
    "unique_genes = train_df['Gene'].value_counts()\n",
    "print('Number of Unique Genes :', unique_genes.shape[0])\n",
    "# the top 10 genes that occured most\n",
    "print(unique_genes.head(10))"
   ]
  },
  {
   "cell_type": "code",
   "execution_count": 17,
   "metadata": {
    "scrolled": true
   },
   "outputs": [
    {
     "name": "stdout",
     "output_type": "stream",
     "text": [
      "Ans: There are 225 different categories of genes in the train data, and they are distibuted as follows\n"
     ]
    }
   ],
   "source": [
    "print(\"Ans: There are\", unique_genes.shape[0] ,\"different categories of genes in the train data, and they are distibuted as follows\",)"
   ]
  },
  {
   "cell_type": "code",
   "execution_count": 18,
   "metadata": {},
   "outputs": [
    {
     "data": {
      "image/png": "[encoded data removed]",
      "text/plain": [
       "<Figure size 432x288 with 1 Axes>"
      ]
     },
     "metadata": {
      "needs_background": "light"
     },
     "output_type": "display_data"
    }
   ],
   "source": [
    "s = sum(unique_genes.values);\n",
    "h = unique_genes.values/s;\n",
    "plt.plot(h, label=\"Histrogram of Genes\")\n",
    "plt.xlabel('Index of a Gene')\n",
    "plt.ylabel('Number of Occurances')\n",
    "plt.legend()\n",
    "plt.grid()\n",
    "plt.show()\n"
   ]
  },
  {
   "cell_type": "code",
   "execution_count": 19,
   "metadata": {},
   "outputs": [
    {
     "data": {
      "image/png": "[encoded data removed]",
      "text/plain": [
       "<Figure size 432x288 with 1 Axes>"
      ]
     },
     "metadata": {
      "needs_background": "light"
     },
     "output_type": "display_data"
    }
   ],
   "source": [
    "c = np.cumsum(h)\n",
    "plt.plot(c,label='Cumulative distribution of Genes')\n",
    "plt.grid()\n",
    "plt.legend()\n",
    "plt.show()"
   ]
  },
  {
   "cell_type": "markdown",
   "metadata": {},
   "source": [
    "<p style=\"font-size:18px;\"> <b>Q3.</b> How to featurize this Gene feature ?</p>\n",
    "\n",
    "<p style=\"font-size:16px;\"><b>Ans.</b>there are two ways we can featurize this variable\n",
    "check out this video: https://www.appliedaicourse.com/course/applied-ai-course-online/lessons/handling-categorical-and-numerical-features/\n",
    "<ol><li>One hot Encoding</li><li>Response coding</li></ol></p>\n",
    "<p> We will choose the appropriate featurization based on the ML model we use.  For this problem of multi-class classification with categorical features, one-hot encoding is better for Logistic regression while response coding is better for Random Forests. </p>"
   ]
  },
  {
   "cell_type": "code",
   "execution_count": 20,
   "metadata": {},
   "outputs": [],
   "source": [
    "#response-coding of the Gene feature\n",
    "# alpha is used for laplace smoothing\n",
    "alpha = 1\n",
    "# train gene feature\n",
    "train_gene_feature_responseCoding = np.array(get_gv_feature(alpha, \"Gene\", train_df))\n",
    "# test gene feature\n",
    "test_gene_feature_responseCoding = np.array(get_gv_feature(alpha, \"Gene\", test_df))\n",
    "# cross validation gene feature\n",
    "cv_gene_feature_responseCoding = np.array(get_gv_feature(alpha, \"Gene\", cv_df))"
   ]
  },
  {
   "cell_type": "code",
   "execution_count": 21,
   "metadata": {},
   "outputs": [
    {
     "name": "stdout",
     "output_type": "stream",
     "text": [
      "train_gene_feature_responseCoding is converted feature using respone coding method. The shape of gene feature: (2124, 9)\n"
     ]
    }
   ],
   "source": [
    "print(\"train_gene_feature_responseCoding is converted feature using respone coding method. The shape of gene feature:\", train_gene_feature_responseCoding.shape)"
   ]
  },
  {
   "cell_type": "code",
   "execution_count": 22,
   "metadata": {},
   "outputs": [],
   "source": [
    "# one-hot encoding of Gene feature.\n",
    "gene_vectorizer = CountVectorizer()\n",
    "train_gene_feature_onehotCoding = gene_vectorizer.fit_transform(train_df['Gene'])\n",
    "test_gene_feature_onehotCoding = gene_vectorizer.transform(test_df['Gene'])\n",
    "cv_gene_feature_onehotCoding = gene_vectorizer.transform(cv_df['Gene'])"
   ]
  },
  {
   "cell_type": "code",
   "execution_count": 23,
   "metadata": {},
   "outputs": [
    {
     "data": {
      "text/plain": [
       "862       ABL1\n",
       "928     PDGFRA\n",
       "2140     KEAP1\n",
       "2433     BRCA1\n",
       "1349      AKT1\n",
       "Name: Gene, dtype: object"
      ]
     },
     "execution_count": 23,
     "metadata": {},
     "output_type": "execute_result"
    }
   ],
   "source": [
    "train_df['Gene'].head()"
   ]
  },
  {
   "cell_type": "code",
   "execution_count": 24,
   "metadata": {},
   "outputs": [
    {
     "data": {
      "text/plain": [
       "['abl1',\n",
       " 'acvr1',\n",
       " 'ago2',\n",
       " 'akt1',\n",
       " 'akt2',\n",
       " 'akt3',\n",
       " 'alk',\n",
       " 'apc',\n",
       " 'ar',\n",
       " 'araf',\n",
       " 'arid1a',\n",
       " 'arid5b',\n",
       " 'asxl1',\n",
       " 'asxl2',\n",
       " 'atm',\n",
       " 'aurka',\n",
       " 'b2m',\n",
       " 'bap1',\n",
       " 'bcl10',\n",
       " 'bcl2',\n",
       " 'bcor',\n",
       " 'braf',\n",
       " 'brca1',\n",
       " 'brca2',\n",
       " 'brd4',\n",
       " 'brip1',\n",
       " 'btk',\n",
       " 'card11',\n",
       " 'carm1',\n",
       " 'casp8',\n",
       " 'cbl',\n",
       " 'ccnd1',\n",
       " 'ccnd2',\n",
       " 'ccnd3',\n",
       " 'ccne1',\n",
       " 'cdh1',\n",
       " 'cdk12',\n",
       " 'cdk4',\n",
       " 'cdk6',\n",
       " 'cdk8',\n",
       " 'cdkn1a',\n",
       " 'cdkn2a',\n",
       " 'cdkn2b',\n",
       " 'cdkn2c',\n",
       " 'cebpa',\n",
       " 'chek2',\n",
       " 'cic',\n",
       " 'crebbp',\n",
       " 'ctcf',\n",
       " 'ctla4',\n",
       " 'ctnnb1',\n",
       " 'ddr2',\n",
       " 'dicer1',\n",
       " 'dnmt3a',\n",
       " 'dnmt3b',\n",
       " 'dusp4',\n",
       " 'egfr',\n",
       " 'eif1ax',\n",
       " 'elf3',\n",
       " 'ep300',\n",
       " 'epas1',\n",
       " 'erbb2',\n",
       " 'erbb3',\n",
       " 'erbb4',\n",
       " 'ercc2',\n",
       " 'ercc3',\n",
       " 'ercc4',\n",
       " 'erg',\n",
       " 'esr1',\n",
       " 'etv1',\n",
       " 'etv6',\n",
       " 'ewsr1',\n",
       " 'ezh2',\n",
       " 'fam58a',\n",
       " 'fanca',\n",
       " 'fancc',\n",
       " 'fat1',\n",
       " 'fbxw7',\n",
       " 'fgf4',\n",
       " 'fgfr1',\n",
       " 'fgfr2',\n",
       " 'fgfr3',\n",
       " 'fgfr4',\n",
       " 'flt1',\n",
       " 'flt3',\n",
       " 'foxa1',\n",
       " 'foxo1',\n",
       " 'foxp1',\n",
       " 'gata3',\n",
       " 'gli1',\n",
       " 'gnas',\n",
       " 'h3f3a',\n",
       " 'hist1h1c',\n",
       " 'hla',\n",
       " 'hnf1a',\n",
       " 'hras',\n",
       " 'idh1',\n",
       " 'idh2',\n",
       " 'igf1r',\n",
       " 'ikbke',\n",
       " 'inpp4b',\n",
       " 'jak1',\n",
       " 'jak2',\n",
       " 'jun',\n",
       " 'kdm5a',\n",
       " 'kdm5c',\n",
       " 'kdm6a',\n",
       " 'kdr',\n",
       " 'keap1',\n",
       " 'kit',\n",
       " 'klf4',\n",
       " 'kmt2a',\n",
       " 'kmt2b',\n",
       " 'kmt2c',\n",
       " 'kmt2d',\n",
       " 'knstrn',\n",
       " 'kras',\n",
       " 'lats2',\n",
       " 'map2k1',\n",
       " 'map2k2',\n",
       " 'map2k4',\n",
       " 'map3k1',\n",
       " 'mapk1',\n",
       " 'mdm4',\n",
       " 'med12',\n",
       " 'mef2b',\n",
       " 'men1',\n",
       " 'met',\n",
       " 'mga',\n",
       " 'mlh1',\n",
       " 'mpl',\n",
       " 'msh2',\n",
       " 'msh6',\n",
       " 'mtor',\n",
       " 'myc',\n",
       " 'mycn',\n",
       " 'myd88',\n",
       " 'ncor1',\n",
       " 'nf1',\n",
       " 'nf2',\n",
       " 'nfe2l2',\n",
       " 'nkx2',\n",
       " 'notch1',\n",
       " 'notch2',\n",
       " 'npm1',\n",
       " 'nras',\n",
       " 'nsd1',\n",
       " 'ntrk1',\n",
       " 'ntrk2',\n",
       " 'ntrk3',\n",
       " 'nup93',\n",
       " 'pak1',\n",
       " 'pbrm1',\n",
       " 'pdgfra',\n",
       " 'pdgfrb',\n",
       " 'pik3ca',\n",
       " 'pik3cb',\n",
       " 'pik3cd',\n",
       " 'pik3r1',\n",
       " 'pik3r2',\n",
       " 'pik3r3',\n",
       " 'pim1',\n",
       " 'pms1',\n",
       " 'pms2',\n",
       " 'pole',\n",
       " 'ppm1d',\n",
       " 'ppp2r1a',\n",
       " 'ppp6c',\n",
       " 'prdm1',\n",
       " 'ptch1',\n",
       " 'pten',\n",
       " 'ptpn11',\n",
       " 'ptprd',\n",
       " 'ptprt',\n",
       " 'rac1',\n",
       " 'rad50',\n",
       " 'rad51c',\n",
       " 'rad51d',\n",
       " 'raf1',\n",
       " 'rasa1',\n",
       " 'rb1',\n",
       " 'rbm10',\n",
       " 'ret',\n",
       " 'rheb',\n",
       " 'rhoa',\n",
       " 'rictor',\n",
       " 'rit1',\n",
       " 'rnf43',\n",
       " 'ros1',\n",
       " 'rras2',\n",
       " 'runx1',\n",
       " 'rxra',\n",
       " 'sdhc',\n",
       " 'setd2',\n",
       " 'sf3b1',\n",
       " 'smad2',\n",
       " 'smad3',\n",
       " 'smad4',\n",
       " 'smarca4',\n",
       " 'smarcb1',\n",
       " 'smo',\n",
       " 'sos1',\n",
       " 'sox9',\n",
       " 'spop',\n",
       " 'stag2',\n",
       " 'stat3',\n",
       " 'stk11',\n",
       " 'tcf3',\n",
       " 'tcf7l2',\n",
       " 'tert',\n",
       " 'tet1',\n",
       " 'tet2',\n",
       " 'tgfbr1',\n",
       " 'tgfbr2',\n",
       " 'tmprss2',\n",
       " 'tp53',\n",
       " 'tp53bp1',\n",
       " 'tsc1',\n",
       " 'tsc2',\n",
       " 'u2af1',\n",
       " 'vhl',\n",
       " 'whsc1',\n",
       " 'xpo1',\n",
       " 'xrcc2',\n",
       " 'yap1']"
      ]
     },
     "execution_count": 24,
     "metadata": {},
     "output_type": "execute_result"
    }
   ],
   "source": [
    "gene_vectorizer.get_feature_names()"
   ]
  },
  {
   "cell_type": "code",
   "execution_count": 25,
   "metadata": {},
   "outputs": [
    {
     "name": "stdout",
     "output_type": "stream",
     "text": [
      "train_gene_feature_onehotCoding is converted feature using one-hot encoding method. The shape of gene feature: (2124, 225)\n"
     ]
    }
   ],
   "source": [
    "print(\"train_gene_feature_onehotCoding is converted feature using one-hot encoding method. The shape of gene feature:\", train_gene_feature_onehotCoding.shape)"
   ]
  },
  {
   "cell_type": "markdown",
   "metadata": {},
   "source": [
    "<p style=\"font-size:18px;\"> <b>Q4.</b> How good is this gene feature  in predicting y_i?</p>"
   ]
  },
  {
   "cell_type": "markdown",
   "metadata": {},
   "source": [
    "There are many ways to estimate how good a feature is, in predicting y_i. One of the good methods is to build a proper ML model using just this feature. In this case, we will build a logistic regression model using only Gene feature (one hot encoded) to predict y_i."
   ]
  },
  {
   "cell_type": "code",
   "execution_count": 26,
   "metadata": {},
   "outputs": [
    {
     "name": "stdout",
     "output_type": "stream",
     "text": [
      "For values of alpha =  1e-05 The log loss is: 1.4047023576763693\n",
      "For values of alpha =  0.0001 The log loss is: 1.2383780001176676\n",
      "For values of alpha =  0.001 The log loss is: 1.245600670348397\n",
      "For values of alpha =  0.01 The log loss is: 1.3482729717114508\n",
      "For values of alpha =  0.1 The log loss is: 1.4569012453195522\n",
      "For values of alpha =  1 The log loss is: 1.4945660969042243\n"
     ]
    },
    {
     "data": {
      "image/png": "[encoded data removed]",
      "text/plain": [
       "<Figure size 432x288 with 1 Axes>"
      ]
     },
     "metadata": {
      "needs_background": "light"
     },
     "output_type": "display_data"
    },
    {
     "name": "stdout",
     "output_type": "stream",
     "text": [
      "For values of best alpha =  0.0001 The train log loss is: 1.0495256919271692\n",
      "For values of best alpha =  0.0001 The cross validation log loss is: 1.2383780001176676\n",
      "For values of best alpha =  0.0001 The test log loss is: 1.2145176048007424\n"
     ]
    }
   ],
   "source": [
    "alpha = [10 ** x for x in range(-5, 1)] # hyperparam for SGD classifier.\n",
    "\n",
    "# read more about SGDClassifier() at http://scikit-learn.org/stable/modules/generated/sklearn.linear_model.SGDClassifier.html\n",
    "# ------------------------------\n",
    "# default parameters\n",
    "# SGDClassifier(loss=’hinge’, penalty=’l2’, alpha=0.0001, l1_ratio=0.15, fit_intercept=True, max_iter=None, tol=None, \n",
    "# shuffle=True, verbose=0, epsilon=0.1, n_jobs=1, random_state=None, learning_rate=’optimal’, eta0=0.0, power_t=0.5, \n",
    "# class_weight=None, warm_start=False, average=False, n_iter=None)\n",
    "\n",
    "# some of methods\n",
    "# fit(X, y[, coef_init, intercept_init, …])\tFit linear model with Stochastic Gradient Descent.\n",
    "# predict(X)\tPredict class labels for samples in X.\n",
    "\n",
    "#-------------------------------\n",
    "# video link: \n",
    "#------------------------------\n",
    "\n",
    "\n",
    "cv_log_error_array=[]\n",
    "for i in alpha:\n",
    "    clf = SGDClassifier(alpha=i, penalty='l2', loss='log', random_state=42)\n",
    "    clf.fit(train_gene_feature_onehotCoding, y_train)\n",
    "    sig_clf = CalibratedClassifierCV(clf, method=\"sigmoid\")\n",
    "    sig_clf.fit(train_gene_feature_onehotCoding, y_train)\n",
    "    predict_y = sig_clf.predict_proba(cv_gene_feature_onehotCoding)\n",
    "    cv_log_error_array.append(log_loss(y_cv, predict_y, labels=clf.classes_, eps=1e-15))\n",
    "    print('For values of alpha = ', i, \"The log loss is:\",log_loss(y_cv, predict_y, labels=clf.classes_, eps=1e-15))\n",
    "\n",
    "fig, ax = plt.subplots()\n",
    "ax.plot(alpha, cv_log_error_array,c='g')\n",
    "for i, txt in enumerate(np.round(cv_log_error_array,3)):\n",
    "    ax.annotate((alpha[i],np.round(txt,3)), (alpha[i],cv_log_error_array[i]))\n",
    "plt.grid()\n",
    "plt.title(\"Cross Validation Error for each alpha\")\n",
    "plt.xlabel(\"Alpha i's\")\n",
    "plt.ylabel(\"Error measure\")\n",
    "plt.show()\n",
    "\n",
    "\n",
    "best_alpha = np.argmin(cv_log_error_array)\n",
    "clf = SGDClassifier(alpha=alpha[best_alpha], penalty='l2', loss='log', random_state=42)\n",
    "clf.fit(train_gene_feature_onehotCoding, y_train)\n",
    "sig_clf = CalibratedClassifierCV(clf, method=\"sigmoid\")\n",
    "sig_clf.fit(train_gene_feature_onehotCoding, y_train)\n",
    "\n",
    "predict_y = sig_clf.predict_proba(train_gene_feature_onehotCoding)\n",
    "print('For values of best alpha = ', alpha[best_alpha], \"The train log loss is:\",log_loss(y_train, predict_y, labels=clf.classes_, eps=1e-15))\n",
    "predict_y = sig_clf.predict_proba(cv_gene_feature_onehotCoding)\n",
    "print('For values of best alpha = ', alpha[best_alpha], \"The cross validation log loss is:\",log_loss(y_cv, predict_y, labels=clf.classes_, eps=1e-15))\n",
    "predict_y = sig_clf.predict_proba(test_gene_feature_onehotCoding)\n",
    "print('For values of best alpha = ', alpha[best_alpha], \"The test log loss is:\",log_loss(y_test, predict_y, labels=clf.classes_, eps=1e-15))\n"
   ]
  },
  {
   "cell_type": "markdown",
   "metadata": {},
   "source": [
    "<p style=\"font-size:18px;\"> <b>Q5.</b> Is the Gene feature stable across all the data sets (Test, Train, Cross validation)?</p>\n",
    "<p style=\"font-size:16px;\"> <b>Ans.</b> Yes, it is. Otherwise, the CV and Test errors would be significantly more than train error. </p>"
   ]
  },
  {
   "cell_type": "code",
   "execution_count": 27,
   "metadata": {},
   "outputs": [
    {
     "name": "stdout",
     "output_type": "stream",
     "text": [
      "Q6. How many data points in Test and CV datasets are covered by the  225  genes in train dataset?\n",
      "Ans\n",
      "1. In test data 633 out of 665 : 95.18796992481204\n",
      "2. In cross validation data 511 out of  532 : 96.05263157894737\n"
     ]
    }
   ],
   "source": [
    "print(\"Q6. How many data points in Test and CV datasets are covered by the \", unique_genes.shape[0], \" genes in train dataset?\")\n",
    "\n",
    "test_coverage=test_df[test_df['Gene'].isin(list(set(train_df['Gene'])))].shape[0]\n",
    "cv_coverage=cv_df[cv_df['Gene'].isin(list(set(train_df['Gene'])))].shape[0]\n",
    "\n",
    "print('Ans\\n1. In test data',test_coverage, 'out of',test_df.shape[0], \":\",(test_coverage/test_df.shape[0])*100)\n",
    "print('2. In cross validation data',cv_coverage, 'out of ',cv_df.shape[0],\":\" ,(cv_coverage/cv_df.shape[0])*100)"
   ]
  },
  {
   "cell_type": "markdown",
   "metadata": {},
   "source": [
    "<h3>3.2.2 Univariate Analysis on Variation Feature</h3>"
   ]
  },
  {
   "cell_type": "markdown",
   "metadata": {},
   "source": [
    "<p style=\"font-size:18px;\"> <b>Q7.</b> Variation, What type of feature is it ?</p>\n",
    "<p style=\"font-size:16px;\"><b>Ans.</b> Variation is a categorical variable </p>\n",
    "<p style=\"font-size:18px;\"> <b>Q8.</b> How many categories are there?</p>"
   ]
  },
  {
   "cell_type": "code",
   "execution_count": 28,
   "metadata": {},
   "outputs": [
    {
     "name": "stdout",
     "output_type": "stream",
     "text": [
      "Number of Unique Variations : 1936\n",
      "Truncating_Mutations    59\n",
      "Amplification           45\n",
      "Deletion                43\n",
      "Fusions                 18\n",
      "Q61R                     3\n",
      "Q61H                     3\n",
      "Overexpression           3\n",
      "E330K                    2\n",
      "F28L                     2\n",
      "Q61K                     2\n",
      "Name: Variation, dtype: int64\n"
     ]
    }
   ],
   "source": [
    "unique_variations = train_df['Variation'].value_counts()\n",
    "print('Number of Unique Variations :', unique_variations.shape[0])\n",
    "# the top 10 variations that occured most\n",
    "print(unique_variations.head(10))"
   ]
  },
  {
   "cell_type": "code",
   "execution_count": 29,
   "metadata": {
    "scrolled": true
   },
   "outputs": [
    {
     "name": "stdout",
     "output_type": "stream",
     "text": [
      "Ans: There are 1936 different categories of variations in the train data, and they are distibuted as follows\n"
     ]
    }
   ],
   "source": [
    "print(\"Ans: There are\", unique_variations.shape[0] ,\"different categories of variations in the train data, and they are distibuted as follows\",)"
   ]
  },
  {
   "cell_type": "code",
   "execution_count": 30,
   "metadata": {},
   "outputs": [
    {
     "data": {
      "image/png": "[encoded data removed]",
      "text/plain": [
       "<Figure size 432x288 with 1 Axes>"
      ]
     },
     "metadata": {
      "needs_background": "light"
     },
     "output_type": "display_data"
    }
   ],
   "source": [
    "s = sum(unique_variations.values);\n",
    "h = unique_variations.values/s;\n",
    "plt.plot(h, label=\"Histrogram of Variations\")\n",
    "plt.xlabel('Index of a Variation')\n",
    "plt.ylabel('Number of Occurances')\n",
    "plt.legend()\n",
    "plt.grid()\n",
    "plt.show()"
   ]
  },
  {
   "cell_type": "code",
   "execution_count": 31,
   "metadata": {},
   "outputs": [
    {
     "name": "stdout",
     "output_type": "stream",
     "text": [
      "[0.02777778 0.04896422 0.06920904 ... 0.99905838 0.99952919 1.        ]\n"
     ]
    },
    {
     "data": {
      "image/png": "[encoded data removed]",
      "text/plain": [
       "<Figure size 432x288 with 1 Axes>"
      ]
     },
     "metadata": {
      "needs_background": "light"
     },
     "output_type": "display_data"
    }
   ],
   "source": [
    "c = np.cumsum(h)\n",
    "print(c)\n",
    "plt.plot(c,label='Cumulative distribution of Variations')\n",
    "plt.grid()\n",
    "plt.legend()\n",
    "plt.show()"
   ]
  },
  {
   "cell_type": "markdown",
   "metadata": {},
   "source": [
    "<p style=\"font-size:18px;\"> <b>Q9.</b> How to featurize this Variation feature ?</p>\n",
    "\n",
    "<p style=\"font-size:16px;\"><b>Ans.</b>There are two ways we can featurize this variable\n",
    "check out this video: https://www.appliedaicourse.com/course/applied-ai-course-online/lessons/handling-categorical-and-numerical-features/\n",
    "<ol><li>One hot Encoding</li><li>Response coding</li></ol></p>\n",
    "<p> We will be using both these methods to featurize the Variation Feature </p>"
   ]
  },
  {
   "cell_type": "code",
   "execution_count": 32,
   "metadata": {},
   "outputs": [],
   "source": [
    "# alpha is used for laplace smoothing\n",
    "alpha = 1\n",
    "# train gene feature\n",
    "train_variation_feature_responseCoding = np.array(get_gv_feature(alpha, \"Variation\", train_df))\n",
    "# test gene feature\n",
    "test_variation_feature_responseCoding = np.array(get_gv_feature(alpha, \"Variation\", test_df))\n",
    "# cross validation gene feature\n",
    "cv_variation_feature_responseCoding = np.array(get_gv_feature(alpha, \"Variation\", cv_df))"
   ]
  },
  {
   "cell_type": "code",
   "execution_count": 33,
   "metadata": {},
   "outputs": [
    {
     "name": "stdout",
     "output_type": "stream",
     "text": [
      "train_variation_feature_responseCoding is a converted feature using the response coding method. The shape of Variation feature: (2124, 9)\n"
     ]
    }
   ],
   "source": [
    "print(\"train_variation_feature_responseCoding is a converted feature using the response coding method. The shape of Variation feature:\", train_variation_feature_responseCoding.shape)"
   ]
  },
  {
   "cell_type": "code",
   "execution_count": 34,
   "metadata": {},
   "outputs": [],
   "source": [
    "# one-hot encoding of variation feature.\n",
    "variation_vectorizer = CountVectorizer()\n",
    "train_variation_feature_onehotCoding = variation_vectorizer.fit_transform(train_df['Variation'])\n",
    "test_variation_feature_onehotCoding = variation_vectorizer.transform(test_df['Variation'])\n",
    "cv_variation_feature_onehotCoding = variation_vectorizer.transform(cv_df['Variation'])"
   ]
  },
  {
   "cell_type": "code",
   "execution_count": 35,
   "metadata": {},
   "outputs": [
    {
     "name": "stdout",
     "output_type": "stream",
     "text": [
      "train_variation_feature_onehotEncoded is converted feature using the onne-hot encoding method. The shape of Variation feature: (2124, 1972)\n"
     ]
    }
   ],
   "source": [
    "print(\"train_variation_feature_onehotEncoded is converted feature using the onne-hot encoding method. The shape of Variation feature:\", train_variation_feature_onehotCoding.shape)"
   ]
  },
  {
   "cell_type": "markdown",
   "metadata": {},
   "source": [
    "<p style=\"font-size:18px;\"> <b>Q10.</b> How good is this Variation feature  in predicting y_i?</p>"
   ]
  },
  {
   "cell_type": "markdown",
   "metadata": {},
   "source": [
    "Let's build a model just like the earlier!"
   ]
  },
  {
   "cell_type": "code",
   "execution_count": 36,
   "metadata": {
    "scrolled": false
   },
   "outputs": [
    {
     "name": "stdout",
     "output_type": "stream",
     "text": [
      "For values of alpha =  1e-05 The log loss is: 1.7184339519632748\n",
      "For values of alpha =  0.0001 The log loss is: 1.7047450269140547\n",
      "For values of alpha =  0.001 The log loss is: 1.7081610588884184\n",
      "For values of alpha =  0.01 The log loss is: 1.7333560750859\n",
      "For values of alpha =  0.1 The log loss is: 1.7465058092633639\n",
      "For values of alpha =  1 The log loss is: 1.7454077069173055\n"
     ]
    },
    {
     "data": {
      "image/png": "[encoded data removed]",
      "text/plain": [
       "<Figure size 432x288 with 1 Axes>"
      ]
     },
     "metadata": {
      "needs_background": "light"
     },
     "output_type": "display_data"
    },
    {
     "name": "stdout",
     "output_type": "stream",
     "text": [
      "For values of best alpha =  0.0001 The train log loss is: 0.7620089208142881\n",
      "For values of best alpha =  0.0001 The cross validation log loss is: 1.7047450269140547\n",
      "For values of best alpha =  0.0001 The test log loss is: 1.6998373219323673\n"
     ]
    }
   ],
   "source": [
    "alpha = [10 ** x for x in range(-5, 1)]\n",
    "\n",
    "# read more about SGDClassifier() at http://scikit-learn.org/stable/modules/generated/sklearn.linear_model.SGDClassifier.html\n",
    "# ------------------------------\n",
    "# default parameters\n",
    "# SGDClassifier(loss=’hinge’, penalty=’l2’, alpha=0.0001, l1_ratio=0.15, fit_intercept=True, max_iter=None, tol=None, \n",
    "# shuffle=True, verbose=0, epsilon=0.1, n_jobs=1, random_state=None, learning_rate=’optimal’, eta0=0.0, power_t=0.5, \n",
    "# class_weight=None, warm_start=False, average=False, n_iter=None)\n",
    "\n",
    "# some of methods\n",
    "# fit(X, y[, coef_init, intercept_init, …])\tFit linear model with Stochastic Gradient Descent.\n",
    "# predict(X)\tPredict class labels for samples in X.\n",
    "\n",
    "#-------------------------------\n",
    "# video link: \n",
    "#------------------------------\n",
    "\n",
    "\n",
    "cv_log_error_array=[]\n",
    "for i in alpha:\n",
    "    clf = SGDClassifier(alpha=i, penalty='l2', loss='log', random_state=42)\n",
    "    clf.fit(train_variation_feature_onehotCoding, y_train)\n",
    "    \n",
    "    sig_clf = CalibratedClassifierCV(clf, method=\"sigmoid\")\n",
    "    sig_clf.fit(train_variation_feature_onehotCoding, y_train)\n",
    "    predict_y = sig_clf.predict_proba(cv_variation_feature_onehotCoding)\n",
    "    \n",
    "    cv_log_error_array.append(log_loss(y_cv, predict_y, labels=clf.classes_, eps=1e-15))\n",
    "    print('For values of alpha = ', i, \"The log loss is:\",log_loss(y_cv, predict_y, labels=clf.classes_, eps=1e-15))\n",
    "\n",
    "fig, ax = plt.subplots()\n",
    "ax.plot(alpha, cv_log_error_array,c='g')\n",
    "for i, txt in enumerate(np.round(cv_log_error_array,3)):\n",
    "    ax.annotate((alpha[i],np.round(txt,3)), (alpha[i],cv_log_error_array[i]))\n",
    "plt.grid()\n",
    "plt.title(\"Cross Validation Error for each alpha\")\n",
    "plt.xlabel(\"Alpha i's\")\n",
    "plt.ylabel(\"Error measure\")\n",
    "plt.show()\n",
    "\n",
    "\n",
    "best_alpha = np.argmin(cv_log_error_array)\n",
    "clf = SGDClassifier(alpha=alpha[best_alpha], penalty='l2', loss='log', random_state=42)\n",
    "clf.fit(train_variation_feature_onehotCoding, y_train)\n",
    "sig_clf = CalibratedClassifierCV(clf, method=\"sigmoid\")\n",
    "sig_clf.fit(train_variation_feature_onehotCoding, y_train)\n",
    "\n",
    "predict_y = sig_clf.predict_proba(train_variation_feature_onehotCoding)\n",
    "print('For values of best alpha = ', alpha[best_alpha], \"The train log loss is:\",log_loss(y_train, predict_y, labels=clf.classes_, eps=1e-15))\n",
    "predict_y = sig_clf.predict_proba(cv_variation_feature_onehotCoding)\n",
    "print('For values of best alpha = ', alpha[best_alpha], \"The cross validation log loss is:\",log_loss(y_cv, predict_y, labels=clf.classes_, eps=1e-15))\n",
    "predict_y = sig_clf.predict_proba(test_variation_feature_onehotCoding)\n",
    "print('For values of best alpha = ', alpha[best_alpha], \"The test log loss is:\",log_loss(y_test, predict_y, labels=clf.classes_, eps=1e-15))\n"
   ]
  },
  {
   "cell_type": "markdown",
   "metadata": {},
   "source": [
    "<p style=\"font-size:18px;\"> <b>Q11.</b> Is the Variation feature stable across all the data sets (Test, Train, Cross validation)?</p>\n",
    "<p style=\"font-size:16px;\"> <b>Ans.</b> Not sure! But lets be very sure using the below analysis. </p>"
   ]
  },
  {
   "cell_type": "code",
   "execution_count": 37,
   "metadata": {
    "scrolled": true
   },
   "outputs": [
    {
     "name": "stdout",
     "output_type": "stream",
     "text": [
      "Q12. How many data points are covered by total  1936  genes in test and cross validation data sets?\n",
      "Ans\n",
      "1. In test data 70 out of 665 : 10.526315789473683\n",
      "2. In cross validation data 59 out of  532 : 11.090225563909774\n"
     ]
    }
   ],
   "source": [
    "print(\"Q12. How many data points are covered by total \", unique_variations.shape[0], \" genes in test and cross validation data sets?\")\n",
    "test_coverage=test_df[test_df['Variation'].isin(list(set(train_df['Variation'])))].shape[0]\n",
    "cv_coverage=cv_df[cv_df['Variation'].isin(list(set(train_df['Variation'])))].shape[0]\n",
    "print('Ans\\n1. In test data',test_coverage, 'out of',test_df.shape[0], \":\",(test_coverage/test_df.shape[0])*100)\n",
    "print('2. In cross validation data',cv_coverage, 'out of ',cv_df.shape[0],\":\" ,(cv_coverage/cv_df.shape[0])*100)"
   ]
  },
  {
   "cell_type": "markdown",
   "metadata": {},
   "source": [
    "<h3>3.2.3 Univariate Analysis on Text Feature</h3>"
   ]
  },
  {
   "cell_type": "markdown",
   "metadata": {},
   "source": [
    "1. How many unique words are present in train data?\n",
    "2. How are word frequencies distributed?\n",
    "3. How to featurize text field?\n",
    "4. Is the text feature useful in predicitng y_i?\n",
    "5. Is the text feature stable across train, test and CV datasets?"
   ]
  },
  {
   "cell_type": "code",
   "execution_count": 38,
   "metadata": {},
   "outputs": [],
   "source": [
    "# cls_text is a data frame\n",
    "# for every row in data fram consider the 'TEXT'\n",
    "# split the words by space\n",
    "# make a dict with those words\n",
    "# increment its count whenever we see that word\n",
    "\n",
    "def extract_dictionary_paddle(cls_text):\n",
    "    dictionary = defaultdict(int)\n",
    "    for index, row in cls_text.iterrows():\n",
    "        for word in row['TEXT'].split():\n",
    "            dictionary[word] +=1\n",
    "    return dictionary"
   ]
  },
  {
   "cell_type": "code",
   "execution_count": 39,
   "metadata": {},
   "outputs": [],
   "source": [
    "import math\n",
    "#https://stackoverflow.com/a/1602964\n",
    "def get_text_responsecoding(df):\n",
    "    text_feature_responseCoding = np.zeros((df.shape[0],9))\n",
    "    for i in range(0,9):\n",
    "        row_index = 0\n",
    "        for index, row in df.iterrows():\n",
    "            sum_prob = 0\n",
    "            for word in row['TEXT'].split():\n",
    "                sum_prob += math.log(((dict_list[i].get(word,0)+10 )/(total_dict.get(word,0)+90)))\n",
    "            text_feature_responseCoding[row_index][i] = math.exp(sum_prob/len(row['TEXT'].split()))\n",
    "            row_index += 1\n",
    "    return text_feature_responseCoding"
   ]
  },
  {
   "cell_type": "code",
   "execution_count": 40,
   "metadata": {},
   "outputs": [
    {
     "name": "stdout",
     "output_type": "stream",
     "text": [
      "Total number of unique words in train data : 53185\n"
     ]
    }
   ],
   "source": [
    "# building a CountVectorizer with all the words that occured minimum 3 times in train data\n",
    "text_vectorizer = CountVectorizer(min_df=3)\n",
    "train_text_feature_onehotCoding = text_vectorizer.fit_transform(train_df['TEXT'])\n",
    "# getting all the feature names (words)\n",
    "train_text_features= text_vectorizer.get_feature_names()\n",
    "\n",
    "# train_text_feature_onehotCoding.sum(axis=0).A1 will sum every row and returns (1*number of features) vector\n",
    "train_text_fea_counts = train_text_feature_onehotCoding.sum(axis=0).A1\n",
    "\n",
    "# zip(list(text_features),text_fea_counts) will zip a word with its number of times it occured\n",
    "text_fea_dict = dict(zip(list(train_text_features),train_text_fea_counts))\n",
    "\n",
    "\n",
    "print(\"Total number of unique words in train data :\", len(train_text_features))"
   ]
  },
  {
   "cell_type": "code",
   "execution_count": 41,
   "metadata": {},
   "outputs": [],
   "source": [
    "dict_list = []\n",
    "# dict_list =[] contains 9 dictoinaries each corresponds to a class\n",
    "for i in range(1,10):\n",
    "    cls_text = train_df[train_df['Class']==i]\n",
    "    # build a word dict based on the words in that class\n",
    "    dict_list.append(extract_dictionary_paddle(cls_text))\n",
    "    # append it to dict_list\n",
    "\n",
    "# dict_list[i] is build on i'th  class text data\n",
    "# total_dict is buid on whole training text data\n",
    "total_dict = extract_dictionary_paddle(train_df)\n",
    "\n",
    "\n",
    "confuse_array = []\n",
    "for i in train_text_features:\n",
    "    ratios = []\n",
    "    max_val = -1\n",
    "    for j in range(0,9):\n",
    "        ratios.append((dict_list[j][i]+10 )/(total_dict[i]+90))\n",
    "    confuse_array.append(ratios)\n",
    "confuse_array = np.array(confuse_array)"
   ]
  },
  {
   "cell_type": "code",
   "execution_count": 42,
   "metadata": {},
   "outputs": [],
   "source": [
    "#response coding of text features\n",
    "train_text_feature_responseCoding  = get_text_responsecoding(train_df)\n",
    "test_text_feature_responseCoding  = get_text_responsecoding(test_df)\n",
    "cv_text_feature_responseCoding  = get_text_responsecoding(cv_df)"
   ]
  },
  {
   "cell_type": "code",
   "execution_count": 43,
   "metadata": {},
   "outputs": [],
   "source": [
    "# https://stackoverflow.com/a/16202486\n",
    "# we convert each row values such that they sum to 1  \n",
    "train_text_feature_responseCoding = (train_text_feature_responseCoding.T/train_text_feature_responseCoding.sum(axis=1)).T\n",
    "test_text_feature_responseCoding = (test_text_feature_responseCoding.T/test_text_feature_responseCoding.sum(axis=1)).T\n",
    "cv_text_feature_responseCoding = (cv_text_feature_responseCoding.T/cv_text_feature_responseCoding.sum(axis=1)).T"
   ]
  },
  {
   "cell_type": "code",
   "execution_count": 44,
   "metadata": {},
   "outputs": [],
   "source": [
    "# don't forget to normalize every feature\n",
    "train_text_feature_onehotCoding = normalize(train_text_feature_onehotCoding, axis=0)\n",
    "\n",
    "# we use the same vectorizer that was trained on train data\n",
    "test_text_feature_onehotCoding = text_vectorizer.transform(test_df['TEXT'])\n",
    "# don't forget to normalize every feature\n",
    "test_text_feature_onehotCoding = normalize(test_text_feature_onehotCoding, axis=0)\n",
    "\n",
    "# we use the same vectorizer that was trained on train data\n",
    "cv_text_feature_onehotCoding = text_vectorizer.transform(cv_df['TEXT'])\n",
    "# don't forget to normalize every feature\n",
    "cv_text_feature_onehotCoding = normalize(cv_text_feature_onehotCoding, axis=0)"
   ]
  },
  {
   "cell_type": "code",
   "execution_count": 45,
   "metadata": {},
   "outputs": [],
   "source": [
    "#https://stackoverflow.com/a/2258273/4084039\n",
    "sorted_text_fea_dict = dict(sorted(text_fea_dict.items(), key=lambda x: x[1] , reverse=True))\n",
    "sorted_text_occur = np.array(list(sorted_text_fea_dict.values()))"
   ]
  },
  {
   "cell_type": "code",
   "execution_count": 46,
   "metadata": {},
   "outputs": [
    {
     "name": "stdout",
     "output_type": "stream",
     "text": [
      "Counter({3: 5211, 4: 3300, 5: 2970, 6: 2883, 7: 2584, 8: 1902, 9: 1803, 14: 1242, 12: 1242, 10: 1226, 11: 1053, 13: 887, 16: 786, 15: 768, 18: 735, 20: 644, 22: 572, 17: 556, 24: 507, 21: 462, 19: 450, 28: 417, 26: 387, 23: 385, 25: 380, 42: 372, 27: 349, 31: 319, 30: 314, 32: 306, 46: 301, 36: 299, 35: 285, 29: 273, 33: 247, 34: 246, 40: 210, 37: 203, 44: 200, 39: 199, 38: 195, 48: 190, 45: 177, 41: 176, 43: 175, 50: 166, 51: 163, 54: 155, 47: 153, 57: 149, 56: 147, 52: 140, 60: 138, 58: 138, 53: 134, 70: 133, 49: 130, 84: 129, 63: 116, 59: 116, 55: 116, 64: 115, 61: 112, 66: 111, 65: 102, 72: 100, 67: 99, 68: 93, 62: 91, 75: 87, 73: 85, 78: 84, 71: 84, 86: 82, 69: 82, 80: 80, 92: 78, 74: 77, 88: 75, 81: 73, 96: 69, 76: 69, 82: 68, 100: 67, 91: 67, 87: 67, 83: 67, 89: 66, 85: 65, 77: 64, 104: 62, 95: 61, 93: 61, 105: 60, 94: 60, 79: 59, 126: 57, 103: 57, 98: 57, 108: 55, 101: 54, 90: 53, 110: 52, 120: 51, 99: 49, 109: 48, 106: 48, 132: 47, 112: 47, 128: 46, 114: 46, 117: 45, 124: 44, 121: 44, 111: 44, 149: 43, 115: 43, 107: 43, 116: 42, 97: 42, 140: 41, 113: 41, 125: 40, 123: 40, 102: 40, 141: 38, 129: 38, 151: 37, 136: 37, 127: 37, 156: 36, 144: 36, 137: 36, 131: 36, 118: 36, 150: 34, 139: 33, 162: 32, 155: 32, 153: 32, 135: 32, 119: 32, 179: 31, 166: 31, 142: 31, 138: 31, 212: 30, 168: 30, 201: 29, 143: 29, 130: 29, 122: 29, 200: 28, 186: 28, 175: 28, 163: 28, 158: 28, 152: 28, 134: 28, 184: 27, 173: 27, 165: 27, 161: 27, 160: 27, 146: 27, 145: 27, 210: 26, 209: 26, 202: 26, 169: 26, 148: 26, 147: 26, 192: 25, 178: 25, 170: 25, 164: 25, 133: 25, 216: 24, 193: 24, 225: 23, 199: 23, 188: 23, 182: 23, 159: 23, 220: 22, 177: 22, 167: 22, 228: 21, 211: 21, 176: 21, 171: 21, 302: 20, 252: 20, 204: 20, 185: 20, 174: 20, 172: 20, 298: 19, 256: 19, 251: 19, 246: 19, 232: 19, 222: 19, 197: 19, 195: 19, 191: 19, 187: 19, 181: 19, 157: 19, 290: 18, 245: 18, 238: 18, 230: 18, 214: 18, 208: 18, 198: 18, 194: 18, 190: 18, 154: 18, 293: 17, 275: 17, 258: 17, 253: 17, 243: 17, 231: 17, 219: 17, 218: 17, 215: 17, 189: 17, 288: 16, 285: 16, 280: 16, 265: 16, 263: 16, 240: 16, 237: 16, 223: 16, 221: 16, 183: 16, 180: 16, 404: 15, 307: 15, 291: 15, 287: 15, 286: 15, 277: 15, 255: 15, 235: 15, 233: 15, 207: 15, 203: 15, 314: 14, 300: 14, 284: 14, 276: 14, 262: 14, 239: 14, 226: 14, 329: 13, 324: 13, 295: 13, 292: 13, 272: 13, 257: 13, 244: 13, 227: 13, 224: 13, 217: 13, 206: 13, 196: 13, 387: 12, 357: 12, 356: 12, 352: 12, 350: 12, 326: 12, 325: 12, 317: 12, 301: 12, 296: 12, 289: 12, 270: 12, 264: 12, 250: 12, 229: 12, 571: 11, 395: 11, 364: 11, 309: 11, 308: 11, 305: 11, 282: 11, 279: 11, 260: 11, 248: 11, 247: 11, 242: 11, 234: 11, 459: 10, 442: 10, 434: 10, 432: 10, 393: 10, 392: 10, 381: 10, 375: 10, 361: 10, 358: 10, 354: 10, 349: 10, 345: 10, 341: 10, 339: 10, 334: 10, 330: 10, 316: 10, 315: 10, 297: 10, 278: 10, 274: 10, 254: 10, 236: 10, 775: 9, 516: 9, 436: 9, 413: 9, 391: 9, 389: 9, 386: 9, 384: 9, 383: 9, 379: 9, 376: 9, 373: 9, 371: 9, 363: 9, 340: 9, 331: 9, 320: 9, 319: 9, 303: 9, 299: 9, 273: 9, 271: 9, 269: 9, 266: 9, 261: 9, 249: 9, 241: 9, 213: 9, 205: 9, 785: 8, 644: 8, 600: 8, 568: 8, 563: 8, 539: 8, 528: 8, 523: 8, 522: 8, 476: 8, 456: 8, 447: 8, 444: 8, 439: 8, 424: 8, 399: 8, 396: 8, 390: 8, 374: 8, 359: 8, 348: 8, 338: 8, 337: 8, 335: 8, 333: 8, 322: 8, 321: 8, 311: 8, 306: 8, 283: 8, 268: 8, 267: 8, 724: 7, 685: 7, 675: 7, 614: 7, 605: 7, 582: 7, 576: 7, 575: 7, 546: 7, 521: 7, 511: 7, 507: 7, 504: 7, 500: 7, 497: 7, 466: 7, 448: 7, 443: 7, 438: 7, 435: 7, 419: 7, 418: 7, 414: 7, 397: 7, 372: 7, 370: 7, 369: 7, 368: 7, 351: 7, 347: 7, 344: 7, 332: 7, 328: 7, 327: 7, 323: 7, 318: 7, 313: 7, 310: 7, 294: 7, 281: 7, 988: 6, 930: 6, 830: 6, 739: 6, 710: 6, 704: 6, 645: 6, 643: 6, 637: 6, 618: 6, 601: 6, 586: 6, 585: 6, 577: 6, 559: 6, 557: 6, 549: 6, 537: 6, 513: 6, 512: 6, 503: 6, 501: 6, 499: 6, 478: 6, 477: 6, 472: 6, 462: 6, 453: 6, 452: 6, 451: 6, 449: 6, 441: 6, 440: 6, 430: 6, 428: 6, 427: 6, 425: 6, 417: 6, 410: 6, 409: 6, 408: 6, 388: 6, 377: 6, 367: 6, 366: 6, 365: 6, 362: 6, 360: 6, 353: 6, 343: 6, 336: 6, 312: 6, 1616: 5, 1108: 5, 1064: 5, 1058: 5, 918: 5, 916: 5, 891: 5, 888: 5, 882: 5, 871: 5, 846: 5, 834: 5, 796: 5, 791: 5, 762: 5, 755: 5, 752: 5, 743: 5, 709: 5, 708: 5, 693: 5, 687: 5, 678: 5, 671: 5, 670: 5, 662: 5, 660: 5, 652: 5, 646: 5, 627: 5, 617: 5, 609: 5, 604: 5, 603: 5, 599: 5, 592: 5, 590: 5, 579: 5, 564: 5, 562: 5, 553: 5, 541: 5, 536: 5, 532: 5, 530: 5, 517: 5, 515: 5, 509: 5, 508: 5, 505: 5, 502: 5, 498: 5, 495: 5, 494: 5, 492: 5, 489: 5, 475: 5, 473: 5, 465: 5, 464: 5, 446: 5, 433: 5, 431: 5, 429: 5, 426: 5, 422: 5, 421: 5, 420: 5, 412: 5, 406: 5, 405: 5, 400: 5, 394: 5, 385: 5, 378: 5, 355: 5, 346: 5, 342: 5, 259: 5, 2559: 4, 1987: 4, 1752: 4, 1673: 4, 1589: 4, 1513: 4, 1364: 4, 1294: 4, 1257: 4, 1223: 4, 1209: 4, 1170: 4, 1161: 4, 1150: 4, 999: 4, 957: 4, 956: 4, 955: 4, 950: 4, 946: 4, 938: 4, 936: 4, 931: 4, 928: 4, 909: 4, 899: 4, 869: 4, 854: 4, 852: 4, 847: 4, 839: 4, 832: 4, 824: 4, 814: 4, 808: 4, 801: 4, 781: 4, 753: 4, 750: 4, 731: 4, 730: 4, 725: 4, 718: 4, 700: 4, 695: 4, 682: 4, 681: 4, 674: 4, 669: 4, 665: 4, 653: 4, 649: 4, 640: 4, 639: 4, 635: 4, 634: 4, 623: 4, 620: 4, 602: 4, 595: 4, 593: 4, 581: 4, 560: 4, 558: 4, 555: 4, 554: 4, 552: 4, 547: 4, 544: 4, 533: 4, 526: 4, 525: 4, 514: 4, 496: 4, 493: 4, 485: 4, 483: 4, 479: 4, 471: 4, 468: 4, 461: 4, 458: 4, 457: 4, 455: 4, 445: 4, 437: 4, 423: 4, 416: 4, 407: 4, 403: 4, 398: 4, 3834: 3, 3258: 3, 3194: 3, 3041: 3, 2924: 3, 2647: 3, 2632: 3, 2542: 3, 2486: 3, 2401: 3, 2250: 3, 2238: 3, 2150: 3, 2095: 3, 2052: 3, 1853: 3, 1790: 3, 1763: 3, 1717: 3, 1702: 3, 1666: 3, 1646: 3, 1630: 3, 1624: 3, 1613: 3, 1594: 3, 1560: 3, 1558: 3, 1550: 3, 1499: 3, 1475: 3, 1394: 3, 1377: 3, 1373: 3, 1367: 3, 1337: 3, 1332: 3, 1327: 3, 1309: 3, 1306: 3, 1304: 3, 1290: 3, 1284: 3, 1261: 3, 1255: 3, 1246: 3, 1207: 3, 1191: 3, 1186: 3, 1182: 3, 1176: 3, 1163: 3, 1154: 3, 1138: 3, 1137: 3, 1130: 3, 1126: 3, 1123: 3, 1118: 3, 1109: 3, 1106: 3, 1103: 3, 1095: 3, 1086: 3, 1081: 3, 1077: 3, 1062: 3, 1055: 3, 1049: 3, 1021: 3, 1017: 3, 1007: 3, 995: 3, 990: 3, 989: 3, 987: 3, 985: 3, 980: 3, 978: 3, 973: 3, 965: 3, 963: 3, 943: 3, 922: 3, 921: 3, 912: 3, 908: 3, 907: 3, 903: 3, 892: 3, 864: 3, 863: 3, 860: 3, 857: 3, 855: 3, 845: 3, 843: 3, 837: 3, 823: 3, 822: 3, 821: 3, 819: 3, 817: 3, 815: 3, 811: 3, 802: 3, 795: 3, 794: 3, 789: 3, 787: 3, 783: 3, 780: 3, 778: 3, 773: 3, 772: 3, 771: 3, 759: 3, 758: 3, 757: 3, 748: 3, 746: 3, 735: 3, 734: 3, 732: 3, 728: 3, 717: 3, 715: 3, 712: 3, 707: 3, 703: 3, 701: 3, 688: 3, 686: 3, 684: 3, 677: 3, 676: 3, 667: 3, 661: 3, 656: 3, 655: 3, 651: 3, 650: 3, 642: 3, 641: 3, 638: 3, 631: 3, 629: 3, 624: 3, 622: 3, 615: 3, 613: 3, 598: 3, 594: 3, 589: 3, 578: 3, 570: 3, 567: 3, 565: 3, 561: 3, 551: 3, 548: 3, 545: 3, 543: 3, 542: 3, 534: 3, 524: 3, 520: 3, 519: 3, 506: 3, 491: 3, 488: 3, 487: 3, 486: 3, 484: 3, 482: 3, 474: 3, 467: 3, 463: 3, 401: 3, 382: 3, 380: 3, 15433: 2, 12298: 2, 11354: 2, 8082: 2, 7786: 2, 7440: 2, 6867: 2, 6217: 2, 5683: 2, 5583: 2, 5512: 2, 5416: 2, 5165: 2, 5159: 2, 4707: 2, 4594: 2, 4549: 2, 4500: 2, 4365: 2, 4353: 2, 4278: 2, 4175: 2, 4165: 2, 3942: 2, 3807: 2, 3785: 2, 3781: 2, 3741: 2, 3665: 2, 3615: 2, 3448: 2, 3387: 2, 3312: 2, 3287: 2, 3197: 2, 3195: 2, 3186: 2, 3022: 2, 3004: 2, 2964: 2, 2901: 2, 2885: 2, 2873: 2, 2867: 2, 2815: 2, 2814: 2, 2766: 2, 2713: 2, 2659: 2, 2655: 2, 2621: 2, 2595: 2, 2592: 2, 2587: 2, 2552: 2, 2549: 2, 2547: 2, 2519: 2, 2456: 2, 2442: 2, 2415: 2, 2403: 2, 2376: 2, 2319: 2, 2283: 2, 2266: 2, 2245: 2, 2241: 2, 2224: 2, 2221: 2, 2219: 2, 2213: 2, 2211: 2, 2196: 2, 2190: 2, 2184: 2, 2157: 2, 2139: 2, 2134: 2, 2130: 2, 2094: 2, 2088: 2, 2086: 2, 2073: 2, 2072: 2, 2069: 2, 2065: 2, 2060: 2, 2055: 2, 2041: 2, 2019: 2, 2007: 2, 1995: 2, 1983: 2, 1982: 2, 1976: 2, 1975: 2, 1974: 2, 1954: 2, 1949: 2, 1940: 2, 1921: 2, 1890: 2, 1883: 2, 1873: 2, 1863: 2, 1855: 2, 1848: 2, 1835: 2, 1833: 2, 1832: 2, 1822: 2, 1817: 2, 1809: 2, 1807: 2, 1801: 2, 1795: 2, 1781: 2, 1779: 2, 1775: 2, 1773: 2, 1772: 2, 1745: 2, 1742: 2, 1726: 2, 1723: 2, 1718: 2, 1716: 2, 1715: 2, 1705: 2, 1689: 2, 1687: 2, 1683: 2, 1674: 2, 1668: 2, 1663: 2, 1662: 2, 1659: 2, 1656: 2, 1651: 2, 1642: 2, 1631: 2, 1623: 2, 1620: 2, 1607: 2, 1601: 2, 1595: 2, 1588: 2, 1567: 2, 1557: 2, 1556: 2, 1555: 2, 1553: 2, 1552: 2, 1551: 2, 1544: 2, 1537: 2, 1536: 2, 1532: 2, 1529: 2, 1528: 2, 1525: 2, 1524: 2, 1519: 2, 1511: 2, 1504: 2, 1500: 2, 1497: 2, 1491: 2, 1485: 2, 1483: 2, 1482: 2, 1473: 2, 1468: 2, 1467: 2, 1448: 2, 1442: 2, 1429: 2, 1424: 2, 1419: 2, 1417: 2, 1415: 2, 1412: 2, 1409: 2, 1407: 2, 1405: 2, 1398: 2, 1386: 2, 1381: 2, 1372: 2, 1369: 2, 1365: 2, 1360: 2, 1356: 2, 1350: 2, 1344: 2, 1334: 2, 1325: 2, 1318: 2, 1311: 2, 1307: 2, 1302: 2, 1298: 2, 1296: 2, 1293: 2, 1291: 2, 1289: 2, 1288: 2, 1283: 2, 1278: 2, 1273: 2, 1270: 2, 1266: 2, 1265: 2, 1264: 2, 1252: 2, 1251: 2, 1249: 2, 1245: 2, 1244: 2, 1241: 2, 1236: 2, 1234: 2, 1232: 2, 1231: 2, 1221: 2, 1217: 2, 1211: 2, 1210: 2, 1200: 2, 1198: 2, 1197: 2, 1193: 2, 1190: 2, 1188: 2, 1184: 2, 1179: 2, 1171: 2, 1169: 2, 1168: 2, 1159: 2, 1158: 2, 1157: 2, 1156: 2, 1152: 2, 1147: 2, 1145: 2, 1144: 2, 1143: 2, 1141: 2, 1136: 2, 1135: 2, 1131: 2, 1127: 2, 1124: 2, 1122: 2, 1117: 2, 1102: 2, 1100: 2, 1099: 2, 1097: 2, 1096: 2, 1094: 2, 1085: 2, 1076: 2, 1072: 2, 1065: 2, 1054: 2, 1052: 2, 1048: 2, 1046: 2, 1045: 2, 1041: 2, 1039: 2, 1038: 2, 1034: 2, 1032: 2, 1031: 2, 1029: 2, 1023: 2, 1015: 2, 1009: 2, 998: 2, 997: 2, 994: 2, 993: 2, 986: 2, 983: 2, 981: 2, 977: 2, 976: 2, 971: 2, 970: 2, 966: 2, 964: 2, 961: 2, 954: 2, 952: 2, 951: 2, 949: 2, 948: 2, 947: 2, 941: 2, 934: 2, 932: 2, 929: 2, 927: 2, 925: 2, 920: 2, 919: 2, 902: 2, 898: 2, 895: 2, 889: 2, 887: 2, 885: 2, 884: 2, 881: 2, 880: 2, 879: 2, 877: 2, 875: 2, 873: 2, 868: 2, 865: 2, 862: 2, 859: 2, 858: 2, 853: 2, 851: 2, 849: 2, 848: 2, 844: 2, 836: 2, 827: 2, 825: 2, 820: 2, 816: 2, 812: 2, 809: 2, 805: 2, 804: 2, 803: 2, 800: 2, 797: 2, 793: 2, 790: 2, 788: 2, 786: 2, 782: 2, 779: 2, 770: 2, 767: 2, 766: 2, 760: 2, 754: 2, 751: 2, 747: 2, 744: 2, 742: 2, 738: 2, 737: 2, 736: 2, 729: 2, 726: 2, 722: 2, 721: 2, 720: 2, 716: 2, 714: 2, 713: 2, 711: 2, 706: 2, 702: 2, 699: 2, 698: 2, 697: 2, 696: 2, 694: 2, 692: 2, 691: 2, 689: 2, 679: 2, 672: 2, 666: 2, 659: 2, 658: 2, 654: 2, 647: 2, 632: 2, 628: 2, 626: 2, 625: 2, 621: 2, 619: 2, 611: 2, 610: 2, 607: 2, 606: 2, 596: 2, 580: 2, 574: 2, 572: 2, 569: 2, 550: 2, 535: 2, 531: 2, 527: 2, 490: 2, 481: 2, 480: 2, 469: 2, 460: 2, 454: 2, 450: 2, 415: 2, 411: 2, 402: 2, 155205: 1, 120450: 1, 82337: 1, 69454: 1, 68525: 1, 68355: 1, 66561: 1, 62871: 1, 61930: 1, 56547: 1, 53986: 1, 49329: 1, 48866: 1, 47703: 1, 47342: 1, 45058: 1, 42647: 1, 42315: 1, 41611: 1, 40335: 1, 39999: 1, 39840: 1, 39254: 1, 38445: 1, 38427: 1, 38095: 1, 36981: 1, 36516: 1, 36053: 1, 35952: 1, 34360: 1, 34060: 1, 33802: 1, 33635: 1, 31882: 1, 31702: 1, 29701: 1, 28982: 1, 27943: 1, 26617: 1, 26587: 1, 26329: 1, 26055: 1, 25937: 1, 25933: 1, 25098: 1, 24986: 1, 24731: 1, 24611: 1, 24504: 1, 24402: 1, 23801: 1, 23797: 1, 22791: 1, 22205: 1, 22183: 1, 21734: 1, 21565: 1, 21191: 1, 21129: 1, 20954: 1, 20381: 1, 20053: 1, 20033: 1, 20016: 1, 19862: 1, 19781: 1, 19655: 1, 19611: 1, 19145: 1, 19015: 1, 18939: 1, 18884: 1, 18623: 1, 18584: 1, 18509: 1, 18140: 1, 18134: 1, 18115: 1, 18002: 1, 17979: 1, 17831: 1, 17779: 1, 17758: 1, 17743: 1, 17691: 1, 17480: 1, 17470: 1, 17337: 1, 17149: 1, 17137: 1, 16917: 1, 16847: 1, 16804: 1, 16782: 1, 16773: 1, 16702: 1, 16683: 1, 16340: 1, 16031: 1, 15951: 1, 15788: 1, 15716: 1, 15648: 1, 15552: 1, 15505: 1, 15499: 1, 15493: 1, 15307: 1, 15247: 1, 14968: 1, 14759: 1, 14656: 1, 14590: 1, 14481: 1, 14452: 1, 14435: 1, 14320: 1, 14296: 1, 14260: 1, 14173: 1, 13943: 1, 13842: 1, 13783: 1, 13612: 1, 13549: 1, 13399: 1, 13190: 1, 13177: 1, 13129: 1, 13094: 1, 13043: 1, 13039: 1, 12957: 1, 12948: 1, 12888: 1, 12801: 1, 12779: 1, 12767: 1, 12763: 1, 12691: 1, 12681: 1, 12666: 1, 12610: 1, 12562: 1, 12515: 1, 12499: 1, 12423: 1, 12408: 1, 12381: 1, 12377: 1, 12340: 1, 12271: 1, 12248: 1, 12243: 1, 12235: 1, 12215: 1, 12211: 1, 12048: 1, 12014: 1, 12003: 1, 11973: 1, 11950: 1, 11781: 1, 11774: 1, 11753: 1, 11683: 1, 11661: 1, 11580: 1, 11309: 1, 11217: 1, 11178: 1, 11172: 1, 11054: 1, 10996: 1, 10973: 1, 10938: 1, 10855: 1, 10794: 1, 10793: 1, 10744: 1, 10614: 1, 10542: 1, 10526: 1, 10517: 1, 10459: 1, 10424: 1, 10391: 1, 10378: 1, 10317: 1, 10306: 1, 10281: 1, 10230: 1, 10222: 1, 10118: 1, 10117: 1, 10116: 1, 10111: 1, 10073: 1, 10024: 1, 10005: 1, 9994: 1, 9957: 1, 9916: 1, 9850: 1, 9751: 1, 9724: 1, 9703: 1, 9693: 1, 9549: 1, 9547: 1, 9542: 1, 9433: 1, 9404: 1, 9401: 1, 9396: 1, 9381: 1, 9307: 1, 9264: 1, 9226: 1, 9223: 1, 9206: 1, 9203: 1, 9193: 1, 9184: 1, 9146: 1, 9052: 1, 9041: 1, 9011: 1, 9000: 1, 8976: 1, 8959: 1, 8915: 1, 8867: 1, 8848: 1, 8825: 1, 8758: 1, 8740: 1, 8736: 1, 8717: 1, 8710: 1, 8676: 1, 8661: 1, 8639: 1, 8575: 1, 8541: 1, 8523: 1, 8499: 1, 8469: 1, 8461: 1, 8389: 1, 8370: 1, 8299: 1, 8286: 1, 8268: 1, 8256: 1, 8202: 1, 8189: 1, 8173: 1, 8162: 1, 8119: 1, 8105: 1, 8080: 1, 8077: 1, 8008: 1, 7992: 1, 7963: 1, 7955: 1, 7946: 1, 7943: 1, 7942: 1, 7867: 1, 7840: 1, 7797: 1, 7795: 1, 7782: 1, 7777: 1, 7772: 1, 7756: 1, 7732: 1, 7688: 1, 7626: 1, 7621: 1, 7600: 1, 7582: 1, 7561: 1, 7555: 1, 7463: 1, 7431: 1, 7401: 1, 7399: 1, 7387: 1, 7384: 1, 7383: 1, 7345: 1, 7319: 1, 7318: 1, 7316: 1, 7304: 1, 7303: 1, 7286: 1, 7280: 1, 7256: 1, 7255: 1, 7248: 1, 7239: 1, 7226: 1, 7199: 1, 7193: 1, 7169: 1, 7166: 1, 7112: 1, 7106: 1, 7077: 1, 7066: 1, 7057: 1, 7049: 1, 7012: 1, 6989: 1, 6988: 1, 6987: 1, 6937: 1, 6912: 1, 6911: 1, 6887: 1, 6885: 1, 6873: 1, 6871: 1, 6850: 1, 6849: 1, 6795: 1, 6774: 1, 6746: 1, 6723: 1, 6712: 1, 6695: 1, 6684: 1, 6674: 1, 6665: 1, 6664: 1, 6633: 1, 6611: 1, 6609: 1, 6592: 1, 6575: 1, 6562: 1, 6556: 1, 6554: 1, 6534: 1, 6533: 1, 6513: 1, 6496: 1, 6493: 1, 6475: 1, 6463: 1, 6456: 1, 6402: 1, 6398: 1, 6395: 1, 6383: 1, 6369: 1, 6323: 1, 6302: 1, 6289: 1, 6262: 1, 6256: 1, 6253: 1, 6250: 1, 6214: 1, 6200: 1, 6197: 1, 6193: 1, 6192: 1, 6168: 1, 6164: 1, 6158: 1, 6135: 1, 6121: 1, 6113: 1, 6097: 1, 6063: 1, 6016: 1, 6015: 1, 5996: 1, 5971: 1, 5967: 1, 5948: 1, 5937: 1, 5934: 1, 5910: 1, 5887: 1, 5878: 1, 5851: 1, 5842: 1, 5834: 1, 5801: 1, 5795: 1, 5758: 1, 5738: 1, 5715: 1, 5709: 1, 5699: 1, 5693: 1, 5679: 1, 5677: 1, 5676: 1, 5661: 1, 5659: 1, 5644: 1, 5627: 1, 5623: 1, 5598: 1, 5565: 1, 5554: 1, 5515: 1, 5485: 1, 5478: 1, 5472: 1, 5460: 1, 5445: 1, 5436: 1, 5429: 1, 5427: 1, 5408: 1, 5405: 1, 5396: 1, 5384: 1, 5379: 1, 5369: 1, 5357: 1, 5353: 1, 5344: 1, 5322: 1, 5306: 1, 5301: 1, 5271: 1, 5265: 1, 5256: 1, 5227: 1, 5223: 1, 5219: 1, 5203: 1, 5202: 1, 5195: 1, 5191: 1, 5178: 1, 5163: 1, 5153: 1, 5151: 1, 5146: 1, 5144: 1, 5112: 1, 5078: 1, 5076: 1, 5073: 1, 5054: 1, 5053: 1, 5051: 1, 5031: 1, 5028: 1, 5001: 1, 4999: 1, 4996: 1, 4991: 1, 4981: 1, 4980: 1, 4974: 1, 4957: 1, 4955: 1, 4953: 1, 4950: 1, 4949: 1, 4947: 1, 4936: 1, 4935: 1, 4930: 1, 4929: 1, 4881: 1, 4875: 1, 4866: 1, 4854: 1, 4846: 1, 4843: 1, 4842: 1, 4838: 1, 4833: 1, 4832: 1, 4797: 1, 4790: 1, 4787: 1, 4781: 1, 4770: 1, 4769: 1, 4764: 1, 4762: 1, 4757: 1, 4737: 1, 4732: 1, 4719: 1, 4714: 1, 4702: 1, 4690: 1, 4674: 1, 4670: 1, 4665: 1, 4649: 1, 4627: 1, 4581: 1, 4561: 1, 4531: 1, 4523: 1, 4519: 1, 4518: 1, 4503: 1, 4494: 1, 4480: 1, 4479: 1, 4478: 1, 4470: 1, 4467: 1, 4453: 1, 4434: 1, 4432: 1, 4426: 1, 4423: 1, 4407: 1, 4397: 1, 4381: 1, 4369: 1, 4368: 1, 4362: 1, 4348: 1, 4344: 1, 4335: 1, 4332: 1, 4321: 1, 4316: 1, 4315: 1, 4312: 1, 4311: 1, 4302: 1, 4299: 1, 4298: 1, 4292: 1, 4285: 1, 4281: 1, 4280: 1, 4261: 1, 4251: 1, 4239: 1, 4235: 1, 4223: 1, 4215: 1, 4210: 1, 4206: 1, 4188: 1, 4159: 1, 4153: 1, 4149: 1, 4148: 1, 4141: 1, 4138: 1, 4135: 1, 4134: 1, 4128: 1, 4125: 1, 4124: 1, 4122: 1, 4119: 1, 4115: 1, 4113: 1, 4104: 1, 4090: 1, 4088: 1, 4087: 1, 4082: 1, 4067: 1, 4062: 1, 4057: 1, 4046: 1, 4042: 1, 4026: 1, 4021: 1, 3996: 1, 3992: 1, 3990: 1, 3974: 1, 3966: 1, 3964: 1, 3961: 1, 3958: 1, 3957: 1, 3949: 1, 3948: 1, 3944: 1, 3933: 1, 3929: 1, 3928: 1, 3921: 1, 3916: 1, 3914: 1, 3909: 1, 3907: 1, 3904: 1, 3899: 1, 3892: 1, 3884: 1, 3864: 1, 3861: 1, 3855: 1, 3854: 1, 3846: 1, 3838: 1, 3835: 1, 3826: 1, 3824: 1, 3820: 1, 3818: 1, 3817: 1, 3813: 1, 3808: 1, 3804: 1, 3802: 1, 3789: 1, 3787: 1, 3782: 1, 3775: 1, 3769: 1, 3765: 1, 3759: 1, 3746: 1, 3740: 1, 3739: 1, 3733: 1, 3724: 1, 3721: 1, 3720: 1, 3712: 1, 3707: 1, 3704: 1, 3696: 1, 3683: 1, 3682: 1, 3673: 1, 3672: 1, 3662: 1, 3658: 1, 3657: 1, 3653: 1, 3649: 1, 3646: 1, 3634: 1, 3624: 1, 3619: 1, 3611: 1, 3605: 1, 3604: 1, 3594: 1, 3591: 1, 3585: 1, 3572: 1, 3569: 1, 3568: 1, 3565: 1, 3562: 1, 3559: 1, 3556: 1, 3555: 1, 3553: 1, 3551: 1, 3550: 1, 3549: 1, 3540: 1, 3539: 1, 3537: 1, 3533: 1, 3532: 1, 3531: 1, 3530: 1, 3529: 1, 3524: 1, 3513: 1, 3504: 1, 3490: 1, 3489: 1, 3486: 1, 3483: 1, 3480: 1, 3479: 1, 3476: 1, 3473: 1, 3472: 1, 3466: 1, 3459: 1, 3457: 1, 3456: 1, 3455: 1, 3450: 1, 3443: 1, 3442: 1, 3440: 1, 3416: 1, 3413: 1, 3404: 1, 3401: 1, 3400: 1, 3399: 1, 3398: 1, 3396: 1, 3393: 1, 3388: 1, 3375: 1, 3373: 1, 3363: 1, 3361: 1, 3360: 1, 3358: 1, 3347: 1, 3343: 1, 3338: 1, 3337: 1, 3328: 1, 3325: 1, 3321: 1, 3317: 1, 3315: 1, 3313: 1, 3307: 1, 3306: 1, 3305: 1, 3302: 1, 3296: 1, 3288: 1, 3285: 1, 3284: 1, 3282: 1, 3279: 1, 3271: 1, 3270: 1, 3263: 1, 3262: 1, 3260: 1, 3256: 1, 3255: 1, 3254: 1, 3250: 1, 3245: 1, 3238: 1, 3237: 1, 3232: 1, 3231: 1, 3222: 1, 3216: 1, 3211: 1, 3205: 1, 3200: 1, 3199: 1, 3196: 1, 3183: 1, 3181: 1, 3180: 1, 3177: 1, 3176: 1, 3167: 1, 3161: 1, 3158: 1, 3154: 1, 3141: 1, 3139: 1, 3131: 1, 3118: 1, 3109: 1, 3107: 1, 3104: 1, 3098: 1, 3091: 1, 3089: 1, 3085: 1, 3084: 1, 3079: 1, 3075: 1, 3074: 1, 3072: 1, 3064: 1, 3063: 1, 3062: 1, 3055: 1, 3053: 1, 3048: 1, 3047: 1, 3036: 1, 3035: 1, 3032: 1, 3028: 1, 3019: 1, 3016: 1, 3009: 1, 3006: 1, 2997: 1, 2993: 1, 2992: 1, 2983: 1, 2980: 1, 2976: 1, 2970: 1, 2969: 1, 2967: 1, 2962: 1, 2957: 1, 2956: 1, 2949: 1, 2945: 1, 2942: 1, 2941: 1, 2936: 1, 2934: 1, 2930: 1, 2916: 1, 2908: 1, 2906: 1, 2904: 1, 2902: 1, 2875: 1, 2858: 1, 2849: 1, 2847: 1, 2846: 1, 2840: 1, 2834: 1, 2833: 1, 2832: 1, 2828: 1, 2827: 1, 2824: 1, 2809: 1, 2808: 1, 2797: 1, 2792: 1, 2791: 1, 2789: 1, 2783: 1, 2778: 1, 2777: 1, 2773: 1, 2771: 1, 2767: 1, 2762: 1, 2759: 1, 2753: 1, 2751: 1, 2742: 1, 2741: 1, 2728: 1, 2725: 1, 2719: 1, 2717: 1, 2705: 1, 2701: 1, 2700: 1, 2699: 1, 2695: 1, 2694: 1, 2692: 1, 2691: 1, 2687: 1, 2680: 1, 2677: 1, 2672: 1, 2670: 1, 2664: 1, 2663: 1, 2662: 1, 2646: 1, 2642: 1, 2641: 1, 2637: 1, 2634: 1, 2629: 1, 2626: 1, 2620: 1, 2615: 1, 2612: 1, 2610: 1, 2604: 1, 2602: 1, 2597: 1, 2593: 1, 2591: 1, 2590: 1, 2585: 1, 2584: 1, 2581: 1, 2564: 1, 2560: 1, 2551: 1, 2550: 1, 2545: 1, 2538: 1, 2536: 1, 2534: 1, 2531: 1, 2529: 1, 2525: 1, 2523: 1, 2521: 1, 2520: 1, 2518: 1, 2517: 1, 2515: 1, 2514: 1, 2511: 1, 2497: 1, 2495: 1, 2491: 1, 2490: 1, 2479: 1, 2476: 1, 2468: 1, 2466: 1, 2464: 1, 2462: 1, 2457: 1, 2454: 1, 2450: 1, 2445: 1, 2443: 1, 2439: 1, 2437: 1, 2436: 1, 2427: 1, 2423: 1, 2422: 1, 2409: 1, 2405: 1, 2398: 1, 2396: 1, 2395: 1, 2390: 1, 2384: 1, 2383: 1, 2377: 1, 2374: 1, 2372: 1, 2367: 1, 2363: 1, 2362: 1, 2361: 1, 2360: 1, 2359: 1, 2358: 1, 2357: 1, 2356: 1, 2355: 1, 2350: 1, 2345: 1, 2344: 1, 2341: 1, 2340: 1, 2338: 1, 2337: 1, 2336: 1, 2333: 1, 2329: 1, 2324: 1, 2322: 1, 2318: 1, 2316: 1, 2313: 1, 2311: 1, 2307: 1, 2297: 1, 2296: 1, 2294: 1, 2293: 1, 2292: 1, 2289: 1, 2288: 1, 2286: 1, 2285: 1, 2282: 1, 2280: 1, 2276: 1, 2272: 1, 2265: 1, 2263: 1, 2262: 1, 2252: 1, 2242: 1, 2237: 1, 2232: 1, 2231: 1, 2230: 1, 2229: 1, 2225: 1, 2217: 1, 2216: 1, 2210: 1, 2203: 1, 2197: 1, 2186: 1, 2174: 1, 2173: 1, 2172: 1, 2171: 1, 2169: 1, 2168: 1, 2164: 1, 2162: 1, 2161: 1, 2154: 1, 2152: 1, 2149: 1, 2147: 1, 2145: 1, 2144: 1, 2135: 1, 2128: 1, 2125: 1, 2121: 1, 2111: 1, 2109: 1, 2107: 1, 2106: 1, 2104: 1, 2102: 1, 2099: 1, 2092: 1, 2085: 1, 2084: 1, 2083: 1, 2082: 1, 2081: 1, 2077: 1, 2075: 1, 2071: 1, 2061: 1, 2059: 1, 2057: 1, 2056: 1, 2049: 1, 2046: 1, 2045: 1, 2044: 1, 2042: 1, 2033: 1, 2025: 1, 2020: 1, 2016: 1, 2012: 1, 2011: 1, 2009: 1, 2006: 1, 2004: 1, 1996: 1, 1994: 1, 1986: 1, 1984: 1, 1978: 1, 1977: 1, 1970: 1, 1967: 1, 1963: 1, 1962: 1, 1961: 1, 1959: 1, 1958: 1, 1950: 1, 1946: 1, 1945: 1, 1943: 1, 1942: 1, 1941: 1, 1938: 1, 1935: 1, 1934: 1, 1929: 1, 1923: 1, 1922: 1, 1914: 1, 1913: 1, 1909: 1, 1908: 1, 1906: 1, 1904: 1, 1902: 1, 1901: 1, 1900: 1, 1897: 1, 1896: 1, 1893: 1, 1892: 1, 1891: 1, 1889: 1, 1888: 1, 1879: 1, 1876: 1, 1875: 1, 1872: 1, 1871: 1, 1870: 1, 1865: 1, 1860: 1, 1858: 1, 1857: 1, 1852: 1, 1850: 1, 1849: 1, 1847: 1, 1846: 1, 1844: 1, 1843: 1, 1839: 1, 1836: 1, 1834: 1, 1831: 1, 1828: 1, 1827: 1, 1825: 1, 1824: 1, 1820: 1, 1819: 1, 1813: 1, 1812: 1, 1808: 1, 1800: 1, 1799: 1, 1797: 1, 1796: 1, 1794: 1, 1789: 1, 1785: 1, 1784: 1, 1782: 1, 1777: 1, 1776: 1, 1774: 1, 1771: 1, 1769: 1, 1766: 1, 1765: 1, 1762: 1, 1759: 1, 1757: 1, 1756: 1, 1754: 1, 1748: 1, 1743: 1, 1741: 1, 1734: 1, 1733: 1, 1721: 1, 1711: 1, 1710: 1, 1708: 1, 1707: 1, 1704: 1, 1701: 1, 1697: 1, 1695: 1, 1693: 1, 1692: 1, 1690: 1, 1686: 1, 1682: 1, 1681: 1, 1679: 1, 1675: 1, 1671: 1, 1667: 1, 1664: 1, 1660: 1, 1657: 1, 1649: 1, 1644: 1, 1638: 1, 1633: 1, 1626: 1, 1625: 1, 1622: 1, 1621: 1, 1619: 1, 1618: 1, 1615: 1, 1614: 1, 1609: 1, 1606: 1, 1605: 1, 1603: 1, 1602: 1, 1599: 1, 1598: 1, 1597: 1, 1592: 1, 1590: 1, 1587: 1, 1585: 1, 1583: 1, 1581: 1, 1579: 1, 1575: 1, 1573: 1, 1572: 1, 1569: 1, 1568: 1, 1566: 1, 1554: 1, 1547: 1, 1543: 1, 1542: 1, 1541: 1, 1540: 1, 1539: 1, 1535: 1, 1533: 1, 1523: 1, 1521: 1, 1517: 1, 1515: 1, 1512: 1, 1510: 1, 1505: 1, 1503: 1, 1501: 1, 1498: 1, 1496: 1, 1494: 1, 1493: 1, 1492: 1, 1481: 1, 1480: 1, 1479: 1, 1477: 1, 1476: 1, 1472: 1, 1471: 1, 1470: 1, 1466: 1, 1465: 1, 1462: 1, 1461: 1, 1459: 1, 1457: 1, 1456: 1, 1455: 1, 1453: 1, 1451: 1, 1450: 1, 1449: 1, 1447: 1, 1446: 1, 1445: 1, 1441: 1, 1439: 1, 1437: 1, 1432: 1, 1431: 1, 1430: 1, 1427: 1, 1416: 1, 1414: 1, 1410: 1, 1406: 1, 1403: 1, 1402: 1, 1401: 1, 1400: 1, 1399: 1, 1397: 1, 1395: 1, 1391: 1, 1389: 1, 1387: 1, 1385: 1, 1383: 1, 1378: 1, 1375: 1, 1374: 1, 1371: 1, 1370: 1, 1359: 1, 1358: 1, 1357: 1, 1355: 1, 1354: 1, 1349: 1, 1348: 1, 1346: 1, 1345: 1, 1343: 1, 1339: 1, 1338: 1, 1335: 1, 1333: 1, 1331: 1, 1330: 1, 1328: 1, 1326: 1, 1323: 1, 1322: 1, 1317: 1, 1316: 1, 1315: 1, 1314: 1, 1305: 1, 1303: 1, 1300: 1, 1295: 1, 1292: 1, 1287: 1, 1286: 1, 1282: 1, 1279: 1, 1277: 1, 1274: 1, 1272: 1, 1271: 1, 1269: 1, 1268: 1, 1267: 1, 1263: 1, 1262: 1, 1260: 1, 1259: 1, 1258: 1, 1254: 1, 1247: 1, 1243: 1, 1238: 1, 1237: 1, 1235: 1, 1228: 1, 1226: 1, 1225: 1, 1224: 1, 1222: 1, 1220: 1, 1219: 1, 1215: 1, 1213: 1, 1212: 1, 1208: 1, 1206: 1, 1205: 1, 1204: 1, 1202: 1, 1199: 1, 1195: 1, 1192: 1, 1185: 1, 1183: 1, 1178: 1, 1174: 1, 1172: 1, 1167: 1, 1166: 1, 1160: 1, 1155: 1, 1153: 1, 1151: 1, 1148: 1, 1140: 1, 1139: 1, 1134: 1, 1133: 1, 1132: 1, 1129: 1, 1128: 1, 1121: 1, 1116: 1, 1115: 1, 1111: 1, 1105: 1, 1104: 1, 1090: 1, 1087: 1, 1083: 1, 1080: 1, 1073: 1, 1071: 1, 1069: 1, 1068: 1, 1066: 1, 1063: 1, 1061: 1, 1060: 1, 1057: 1, 1051: 1, 1050: 1, 1044: 1, 1043: 1, 1042: 1, 1040: 1, 1037: 1, 1035: 1, 1033: 1, 1030: 1, 1028: 1, 1026: 1, 1024: 1, 1022: 1, 1019: 1, 1018: 1, 1016: 1, 1014: 1, 1013: 1, 1012: 1, 1010: 1, 1008: 1, 1006: 1, 1005: 1, 1004: 1, 1001: 1, 1000: 1, 996: 1, 992: 1, 982: 1, 979: 1, 974: 1, 968: 1, 967: 1, 962: 1, 960: 1, 953: 1, 945: 1, 942: 1, 940: 1, 935: 1, 933: 1, 924: 1, 923: 1, 915: 1, 913: 1, 911: 1, 906: 1, 905: 1, 900: 1, 897: 1, 896: 1, 894: 1, 893: 1, 890: 1, 886: 1, 883: 1, 878: 1, 876: 1, 874: 1, 870: 1, 867: 1, 861: 1, 856: 1, 850: 1, 841: 1, 838: 1, 835: 1, 813: 1, 807: 1, 806: 1, 799: 1, 792: 1, 784: 1, 777: 1, 769: 1, 768: 1, 765: 1, 764: 1, 761: 1, 756: 1, 749: 1, 745: 1, 741: 1, 740: 1, 733: 1, 723: 1, 719: 1, 705: 1, 690: 1, 683: 1, 668: 1, 657: 1, 648: 1, 636: 1, 633: 1, 616: 1, 612: 1, 608: 1, 597: 1, 591: 1, 587: 1, 584: 1, 583: 1, 573: 1, 556: 1, 538: 1, 518: 1, 510: 1, 470: 1, 304: 1})\n"
     ]
    }
   ],
   "source": [
    "# Number of words for a given frequency.\n",
    "print(Counter(sorted_text_occur))"
   ]
  },
  {
   "cell_type": "code",
   "execution_count": 47,
   "metadata": {},
   "outputs": [
    {
     "name": "stdout",
     "output_type": "stream",
     "text": [
      "For values of alpha =  1e-05 The log loss is: 1.4375763801971455\n",
      "For values of alpha =  0.0001 The log loss is: 1.417326065725245\n",
      "For values of alpha =  0.001 The log loss is: 1.2884336877341482\n",
      "For values of alpha =  0.01 The log loss is: 1.3249074593944148\n",
      "For values of alpha =  0.1 The log loss is: 1.5188018566089658\n",
      "For values of alpha =  1 The log loss is: 1.7158216558694959\n"
     ]
    },
    {
     "data": {
      "image/png": "[encoded data removed]",
      "text/plain": [
       "<Figure size 432x288 with 1 Axes>"
      ]
     },
     "metadata": {
      "needs_background": "light"
     },
     "output_type": "display_data"
    },
    {
     "name": "stdout",
     "output_type": "stream",
     "text": [
      "For values of best alpha =  0.001 The train log loss is: 0.7297242721795973\n",
      "For values of best alpha =  0.001 The cross validation log loss is: 1.2884336877341482\n",
      "For values of best alpha =  0.001 The test log loss is: 1.1572647798321343\n"
     ]
    }
   ],
   "source": [
    "# Train a Logistic regression+Calibration model using text features whicha re on-hot encoded\n",
    "alpha = [10 ** x for x in range(-5, 1)]\n",
    "\n",
    "# read more about SGDClassifier() at http://scikit-learn.org/stable/modules/generated/sklearn.linear_model.SGDClassifier.html\n",
    "# ------------------------------\n",
    "# default parameters\n",
    "# SGDClassifier(loss=’hinge’, penalty=’l2’, alpha=0.0001, l1_ratio=0.15, fit_intercept=True, max_iter=None, tol=None, \n",
    "# shuffle=True, verbose=0, epsilon=0.1, n_jobs=1, random_state=None, learning_rate=’optimal’, eta0=0.0, power_t=0.5, \n",
    "# class_weight=None, warm_start=False, average=False, n_iter=None)\n",
    "\n",
    "# some of methods\n",
    "# fit(X, y[, coef_init, intercept_init, …])\tFit linear model with Stochastic Gradient Descent.\n",
    "# predict(X)\tPredict class labels for samples in X.\n",
    "\n",
    "#-------------------------------\n",
    "# video link: \n",
    "#------------------------------\n",
    "\n",
    "\n",
    "cv_log_error_array=[]\n",
    "for i in alpha:\n",
    "    clf = SGDClassifier(alpha=i, penalty='l2', loss='log', random_state=42)\n",
    "    clf.fit(train_text_feature_onehotCoding, y_train)\n",
    "    \n",
    "    sig_clf = CalibratedClassifierCV(clf, method=\"sigmoid\")\n",
    "    sig_clf.fit(train_text_feature_onehotCoding, y_train)\n",
    "    predict_y = sig_clf.predict_proba(cv_text_feature_onehotCoding)\n",
    "    cv_log_error_array.append(log_loss(y_cv, predict_y, labels=clf.classes_, eps=1e-15))\n",
    "    print('For values of alpha = ', i, \"The log loss is:\",log_loss(y_cv, predict_y, labels=clf.classes_, eps=1e-15))\n",
    "\n",
    "fig, ax = plt.subplots()\n",
    "ax.plot(alpha, cv_log_error_array,c='g')\n",
    "for i, txt in enumerate(np.round(cv_log_error_array,3)):\n",
    "    ax.annotate((alpha[i],np.round(txt,3)), (alpha[i],cv_log_error_array[i]))\n",
    "plt.grid()\n",
    "plt.title(\"Cross Validation Error for each alpha\")\n",
    "plt.xlabel(\"Alpha i's\")\n",
    "plt.ylabel(\"Error measure\")\n",
    "plt.show()\n",
    "\n",
    "\n",
    "best_alpha = np.argmin(cv_log_error_array)\n",
    "clf = SGDClassifier(alpha=alpha[best_alpha], penalty='l2', loss='log', random_state=42)\n",
    "clf.fit(train_text_feature_onehotCoding, y_train)\n",
    "sig_clf = CalibratedClassifierCV(clf, method=\"sigmoid\")\n",
    "sig_clf.fit(train_text_feature_onehotCoding, y_train)\n",
    "\n",
    "predict_y = sig_clf.predict_proba(train_text_feature_onehotCoding)\n",
    "print('For values of best alpha = ', alpha[best_alpha], \"The train log loss is:\",log_loss(y_train, predict_y, labels=clf.classes_, eps=1e-15))\n",
    "predict_y = sig_clf.predict_proba(cv_text_feature_onehotCoding)\n",
    "print('For values of best alpha = ', alpha[best_alpha], \"The cross validation log loss is:\",log_loss(y_cv, predict_y, labels=clf.classes_, eps=1e-15))\n",
    "predict_y = sig_clf.predict_proba(test_text_feature_onehotCoding)\n",
    "print('For values of best alpha = ', alpha[best_alpha], \"The test log loss is:\",log_loss(y_test, predict_y, labels=clf.classes_, eps=1e-15))\n"
   ]
  },
  {
   "cell_type": "markdown",
   "metadata": {},
   "source": [
    "<p style=\"font-size:18px;\"> <b>Q.</b> Is the Text feature stable across all the data sets (Test, Train, Cross validation)?</p>\n",
    "<p style=\"font-size:16px;\"> <b>Ans.</b> Yes, it seems like! </p>"
   ]
  },
  {
   "cell_type": "code",
   "execution_count": 48,
   "metadata": {},
   "outputs": [],
   "source": [
    "def get_intersec_text(df):\n",
    "    df_text_vec = CountVectorizer(min_df=3)\n",
    "    df_text_fea = df_text_vec.fit_transform(df['TEXT'])\n",
    "    df_text_features = df_text_vec.get_feature_names()\n",
    "\n",
    "    df_text_fea_counts = df_text_fea.sum(axis=0).A1\n",
    "    df_text_fea_dict = dict(zip(list(df_text_features),df_text_fea_counts))\n",
    "    len1 = len(set(df_text_features))\n",
    "    len2 = len(set(train_text_features) & set(df_text_features))\n",
    "    return len1,len2"
   ]
  },
  {
   "cell_type": "code",
   "execution_count": 49,
   "metadata": {},
   "outputs": [
    {
     "name": "stdout",
     "output_type": "stream",
     "text": [
      "96.024 % of word of test data appeared in train data\n",
      "97.823 % of word of Cross Validation appeared in train data\n"
     ]
    }
   ],
   "source": [
    "len1,len2 = get_intersec_text(test_df)\n",
    "print(np.round((len2/len1)*100, 3), \"% of word of test data appeared in train data\")\n",
    "len1,len2 = get_intersec_text(cv_df)\n",
    "print(np.round((len2/len1)*100, 3), \"% of word of Cross Validation appeared in train data\")"
   ]
  },
  {
   "cell_type": "markdown",
   "metadata": {},
   "source": [
    "<h1>4. Feature Engineering Technique to reduce Log Loss</h1>"
   ]
  },
  {
   "cell_type": "code",
   "execution_count": 50,
   "metadata": {},
   "outputs": [],
   "source": [
    "#https://medium.com/open-machine-learning-course/open-machine-learning-course-topic-6-feature-engineering-and-feature-selection-8b94f870706a\n",
    "result = pd.merge(data, data_text,on='ID', how='left')\n",
    "result.loc[result['TEXT'].isnull(),'TEXT'] = result['Gene'] +' '+result['Variation']\n",
    "y_true = result['Class'].values\n",
    "result.Gene = result.Gene.str.replace('\\s+', '_')\n",
    "result.Variation = result.Variation.str.replace('\\s+', '_')\n",
    "\n",
    "x_train, x_test, y_train, y_test = train_test_split(result, y_true, stratify=y_true, test_size=0.2)\n",
    "\n",
    "x_train, x_cv, y_train, y_cv = train_test_split(x_train, y_train, stratify=y_train, test_size=0.2)"
   ]
  },
  {
   "cell_type": "code",
   "execution_count": 74,
   "metadata": {},
   "outputs": [],
   "source": [
    "# print(result.head(5))"
   ]
  },
  {
   "cell_type": "code",
   "execution_count": 51,
   "metadata": {},
   "outputs": [],
   "source": [
    "def get_gv_fea_dict(alpha, feature, df):\n",
    "    value_count = x_train[feature].value_counts()\n",
    "    gv_dict = dict()\n",
    "    for i, denominator in value_count.items():\n",
    "        vec = []\n",
    "        for k in range(1,10):\n",
    "            cls_cnt = x_train.loc[(x_train['Class']==k) & (x_train[feature]==i)]\n",
    "            vec.append((cls_cnt.shape[0] + alpha*10)/ (denominator + 90*alpha))\n",
    "        gv_dict[i]=vec\n",
    "    return gv_dict\n",
    "\n",
    "# Get Gene variation feature\n",
    "def get_gv_feature(alpha, feature, df):\n",
    "    gv_dict = get_gv_fea_dict(alpha, feature, df)   \n",
    "    value_count = x_train[feature].value_counts()\n",
    "    gv_fea = []\n",
    "    for index, row in df.iterrows():\n",
    "        if row[feature] in dict(value_count).keys():\n",
    "            gv_fea.append(gv_dict[row[feature]])\n",
    "        else:\n",
    "            gv_fea.append([1/9,1/9,1/9,1/9,1/9,1/9,1/9,1/9,1/9])\n",
    "    return gv_fea"
   ]
  },
  {
   "cell_type": "code",
   "execution_count": 52,
   "metadata": {},
   "outputs": [],
   "source": [
    "alpha = 1\n",
    "\n",
    "# train gene feature\n",
    "train_gene_feature_responseCoding = np.array(get_gv_feature(alpha, \"Gene\", x_train))\n",
    "\n",
    "# test gene feature\n",
    "test_gene_feature_responseCoding = np.array(get_gv_feature(alpha, \"Gene\", x_test))\n",
    "\n",
    "# cross validation gene feature\n",
    "cv_gene_feature_responseCoding = np.array(get_gv_feature(alpha, \"Gene\", x_cv))"
   ]
  },
  {
   "cell_type": "code",
   "execution_count": 53,
   "metadata": {},
   "outputs": [],
   "source": [
    "gene_vectorizer = TfidfVectorizer()\n",
    "train_gene_feature_onehotCoding = gene_vectorizer.fit_transform(x_train['Gene'])\n",
    "test_gene_feature_onehotCoding = gene_vectorizer.transform(x_test['Gene'])\n",
    "cv_gene_feature_onehotCoding = gene_vectorizer.transform(x_cv['Gene'])"
   ]
  },
  {
   "cell_type": "code",
   "execution_count": 54,
   "metadata": {},
   "outputs": [],
   "source": [
    "alpha = 1\n",
    "\n",
    "# train gene feature\n",
    "train_variation_feature_responseCoding = np.array(get_gv_feature(alpha, \"Variation\", x_train))\n",
    "\n",
    "# test gene feature\n",
    "test_variation_feature_responseCoding = np.array(get_gv_feature(alpha, \"Variation\", x_test))\n",
    "\n",
    "# cross validation gene feature\n",
    "cv_variation_feature_responseCoding = np.array(get_gv_feature(alpha, \"Variation\", x_cv))"
   ]
  },
  {
   "cell_type": "code",
   "execution_count": 55,
   "metadata": {},
   "outputs": [],
   "source": [
    "variation_vectorizer = TfidfVectorizer()\n",
    "train_variation_feature_onehotCoding = variation_vectorizer.fit_transform(x_train['Variation'])\n",
    "test_variation_feature_onehotCoding = variation_vectorizer.transform(x_test['Variation'])\n",
    "cv_variation_feature_onehotCoding = variation_vectorizer.transform(x_cv['Variation'])"
   ]
  },
  {
   "cell_type": "code",
   "execution_count": 56,
   "metadata": {},
   "outputs": [],
   "source": [
    "def extract_dictionary_paddle(cls_text):\n",
    "    dictionary = defaultdict(int)\n",
    "    for index, row in cls_text.iterrows():\n",
    "        for word in row['TEXT'].split():\n",
    "            dictionary[word] +=1\n",
    "    return dictionary\n",
    "\n",
    "\n",
    "import math\n",
    "#https://stackoverflow.com/a/1602964\n",
    "def get_text_responsecoding(df):\n",
    "    text_feature_responseCoding = np.zeros((df.shape[0],9))\n",
    "    for i in range(0,9):\n",
    "        row_index = 0\n",
    "        for index, row in df.iterrows():\n",
    "            sum_prob = 0\n",
    "            for word in row['TEXT'].split():\n",
    "                sum_prob += math.log(((dict_list[i].get(word,0)+10 )/(total_dict.get(word,0)+90)))\n",
    "            text_feature_responseCoding[row_index][i] = math.exp(sum_prob/len(row['TEXT'].split()))\n",
    "            row_index += 1\n",
    "    return text_feature_responseCoding"
   ]
  },
  {
   "cell_type": "code",
   "execution_count": 57,
   "metadata": {},
   "outputs": [
    {
     "name": "stdout",
     "output_type": "stream",
     "text": [
      "Total number of unique words in train data : 124846\n"
     ]
    }
   ],
   "source": [
    "text_vectorizer = TfidfVectorizer(max_features=1000)\n",
    "train_text_feature_onehotCoding = text_vectorizer.fit_transform(x_train['TEXT'])\n",
    "# getting all the feature names (words)\n",
    "train_text_features= text_vectorizer.get_feature_names()\n",
    "\n",
    "# train_text_feature_onehotCoding.sum(axis=0).A1 will sum every row and returns (1*number of features) vector\n",
    "train_text_fea_counts = train_text_feature_onehotCoding.sum(axis=0).A1\n",
    "\n",
    "# zip(list(text_features),text_fea_counts) will zip a word with its number of times it occured\n",
    "text_fea_dict = dict(zip(list(train_text_features),train_text_fea_counts))\n",
    "\n",
    "\n",
    "print(\"Total number of unique words in train data :\", len(train_text_features))"
   ]
  },
  {
   "cell_type": "code",
   "execution_count": 58,
   "metadata": {},
   "outputs": [],
   "source": [
    "dict_list = []\n",
    "# dict_list =[] contains 9 dictoinaries each corresponds to a class\n",
    "for i in range(1,10):\n",
    "    cls_text = x_train[x_train['Class']==i]\n",
    "    # build a word dict based on the words in that class\n",
    "    dict_list.append(extract_dictionary_paddle(cls_text))\n",
    "    # append it to dict_list\n",
    "\n",
    "# dict_list[i] is build on i'th  class text data\n",
    "# total_dict is buid on whole training text data\n",
    "total_dict = extract_dictionary_paddle(x_train)\n",
    "\n",
    "\n",
    "confuse_array = []\n",
    "for i in train_text_features:\n",
    "    ratios = []\n",
    "    max_val = -1\n",
    "    for j in range(0,9):\n",
    "        ratios.append((dict_list[j][i]+10 )/(total_dict[i]+90))\n",
    "    confuse_array.append(ratios)\n",
    "confuse_array = np.array(confuse_array)"
   ]
  },
  {
   "cell_type": "code",
   "execution_count": 59,
   "metadata": {},
   "outputs": [],
   "source": [
    "train_text_feature_responseCoding  = get_text_responsecoding(x_train)\n",
    "test_text_feature_responseCoding  = get_text_responsecoding(x_test)\n",
    "cv_text_feature_responseCoding  = get_text_responsecoding(x_cv)\n",
    "\n",
    "# https://stackoverflow.com/a/16202486\n",
    "# we convert each row values such that they sum to 1  \n",
    "train_text_feature_responseCoding = (train_text_feature_responseCoding.T/train_text_feature_responseCoding.sum(axis=1)).T\n",
    "test_text_feature_responseCoding = (test_text_feature_responseCoding.T/test_text_feature_responseCoding.sum(axis=1)).T\n",
    "cv_text_feature_responseCoding = (cv_text_feature_responseCoding.T/cv_text_feature_responseCoding.sum(axis=1)).T"
   ]
  },
  {
   "cell_type": "code",
   "execution_count": 60,
   "metadata": {},
   "outputs": [],
   "source": [
    "test_text_feature_onehotCoding = text_vectorizer.transform(x_test['TEXT'])\n",
    "cv_text_feature_onehotCoding = text_vectorizer.transform(x_cv['TEXT'])"
   ]
  },
  {
   "cell_type": "code",
   "execution_count": 119,
   "metadata": {},
   "outputs": [],
   "source": [
    "# this function will be used just for naive bayes\n",
    "# for the given indices, we will print the name of the features\n",
    "# and we will check whether the feature present in the test point text or not\n",
    "def get_impfeature_names(indices, text, gene, var, no_features):\n",
    "    gene_count_vec = CountVectorizer()\n",
    "    var_count_vec = CountVectorizer()\n",
    "    text_count_vec = CountVectorizer(min_df=3)\n",
    "    \n",
    "    gene_vec = gene_count_vec.fit(train_df['Gene'])\n",
    "    var_vec  = var_count_vec.fit(train_df['Variation'])\n",
    "    text_vec = text_count_vec.fit(train_df['TEXT'])\n",
    "    \n",
    "    fea1_len = len(gene_vec.get_feature_names())\n",
    "    fea2_len = len(var_count_vec.get_feature_names())\n",
    "    \n",
    "    word_present = 0\n",
    "    for i,v in enumerate(indices):\n",
    "        if (v < fea1_len):\n",
    "            word = gene_vec.get_feature_names()[v]\n",
    "            yes_no = True if word == gene else False\n",
    "            if yes_no:\n",
    "                word_present += 1\n",
    "                print(i, \"Gene feature [{}] present in test data point [{}]\".format(word,yes_no))\n",
    "        elif (v < fea1_len+fea2_len):\n",
    "            word = var_vec.get_feature_names()[v-(fea1_len)]\n",
    "            yes_no = True if word == var else False\n",
    "            if yes_no:\n",
    "                word_present += 1\n",
    "                print(i, \"variation feature [{}] present in test data point [{}]\".format(word,yes_no))\n",
    "        else:\n",
    "            word = text_vec.get_feature_names()[v-(fea1_len+fea2_len)]\n",
    "            yes_no = True if word in text.split() else False\n",
    "            if yes_no:\n",
    "                word_present += 1\n",
    "                print(i, \"Text feature [{}] present in test data point [{}]\".format(word,yes_no))\n",
    "\n",
    "    print(\"Out of the top \",no_features,\" features \", word_present, \"are present in query point\")"
   ]
  },
  {
   "cell_type": "markdown",
   "metadata": {},
   "source": [
    "### features after applying feature engineering"
   ]
  },
  {
   "cell_type": "code",
   "execution_count": 120,
   "metadata": {},
   "outputs": [],
   "source": [
    "\n",
    "gene_variation = []\n",
    "\n",
    "for gene in data['Gene'].values:\n",
    "    gene_variation.append(gene)\n",
    "\n",
    "for variation in data['Variation'].values:\n",
    "    gene_variation.append(variation)"
   ]
  },
  {
   "cell_type": "code",
   "execution_count": 121,
   "metadata": {},
   "outputs": [],
   "source": [
    "tfidfVectorizer = TfidfVectorizer()\n",
    "tfidfVectorizer.fit_transform(gene_variation)\n",
    "gene_variation_features = tfidfVectorizer.get_feature_names()\n",
    "\n",
    "train_text = tfidfVectorizer.transform(x_train['TEXT'])\n",
    "test_text = tfidfVectorizer.transform(x_test['TEXT'])\n",
    "cv_text = tfidfVectorizer.transform(x_cv['TEXT'])\n",
    "\n",
    "#Selecting top 2000 best features from the generated tfidf features\n",
    "from sklearn.feature_selection import SelectKBest, chi2\n",
    "selector = SelectKBest(chi2, k = 500 )\n",
    "selector.fit(train_text,train_y)\n",
    "train_text = selector.transform(train_text)\n",
    "test_text = selector.transform(test_text)\n",
    "cv_text = selector.transform(cv_text)"
   ]
  },
  {
   "cell_type": "markdown",
   "metadata": {},
   "source": [
    "### Stacking"
   ]
  },
  {
   "cell_type": "code",
   "execution_count": 125,
   "metadata": {},
   "outputs": [],
   "source": [
    "train_gene_var_onehotCoding = hstack((train_gene_feature_onehotCoding,train_variation_feature_onehotCoding))\n",
    "test_gene_var_onehotCoding = hstack((test_gene_feature_onehotCoding,test_variation_feature_onehotCoding))\n",
    "cv_gene_var_onehotCoding = hstack((cv_gene_feature_onehotCoding,cv_variation_feature_onehotCoding))\n",
    "\n",
    "# Adding the train_text feature\n",
    "train_x_onehotCoding = hstack((train_gene_var_onehotCoding, train_text))\n",
    "train_x_onehotCoding = hstack((train_x_onehotCoding, train_text_feature_onehotCoding)).tocsr()\n",
    "train_y = np.array(list(x_train['Class']))\n",
    "\n",
    "# Adding the test_text feature\n",
    "test_x_onehotCoding = hstack((test_gene_var_onehotCoding, test_text))\n",
    "test_x_onehotCoding = hstack((test_x_onehotCoding, test_text_feature_onehotCoding)).tocsr()\n",
    "test_y = np.array(list(x_test['Class']))\n",
    "\n",
    "# Adding the cv_text feature\n",
    "cv_x_onehotCoding = hstack((cv_gene_var_onehotCoding, cv_text))\n",
    "cv_x_onehotCoding = hstack((cv_x_onehotCoding, cv_text_feature_onehotCoding)).tocsr()\n",
    "cv_y = np.array(list(x_cv['Class']))\n",
    "\n",
    "\n",
    "train_gene_var_responseCoding = np.hstack((train_gene_feature_responseCoding,train_variation_feature_responseCoding))\n",
    "test_gene_var_responseCoding = np.hstack((test_gene_feature_responseCoding,test_variation_feature_responseCoding))\n",
    "cv_gene_var_responseCoding = np.hstack((cv_gene_feature_responseCoding,cv_variation_feature_responseCoding))\n",
    "\n",
    "train_x_responseCoding = np.hstack((train_gene_var_responseCoding, train_text_feature_responseCoding))\n",
    "test_x_responseCoding = np.hstack((test_gene_var_responseCoding, test_text_feature_responseCoding))\n",
    "cv_x_responseCoding = np.hstack((cv_gene_var_responseCoding, cv_text_feature_responseCoding))"
   ]
  },
  {
   "cell_type": "code",
   "execution_count": 126,
   "metadata": {},
   "outputs": [
    {
     "name": "stdout",
     "output_type": "stream",
     "text": [
      "One hot encoding features :\n",
      "(number of data points * number of features) in train data =  (2124, 127547)\n",
      "(number of data points * number of features) in test data =  (665, 127547)\n",
      "(number of data points * number of features) in cross validation data = (532, 127547)\n"
     ]
    }
   ],
   "source": [
    "print(\"One hot encoding features :\")\n",
    "print(\"(number of data points * number of features) in train data = \", train_x_onehotCoding.shape)\n",
    "print(\"(number of data points * number of features) in test data = \", test_x_onehotCoding.shape)\n",
    "print(\"(number of data points * number of features) in cross validation data =\", cv_x_onehotCoding.shape)"
   ]
  },
  {
   "cell_type": "code",
   "execution_count": 127,
   "metadata": {},
   "outputs": [
    {
     "name": "stdout",
     "output_type": "stream",
     "text": [
      " Response encoding features :\n",
      "(number of data points * number of features) in train data =  (2124, 27)\n",
      "(number of data points * number of features) in test data =  (665, 27)\n",
      "(number of data points * number of features) in cross validation data = (532, 27)\n"
     ]
    }
   ],
   "source": [
    "print(\" Response encoding features :\")\n",
    "print(\"(number of data points * number of features) in train data = \", train_x_responseCoding.shape)\n",
    "print(\"(number of data points * number of features) in test data = \", test_x_responseCoding.shape)\n",
    "print(\"(number of data points * number of features) in cross validation data =\", cv_x_responseCoding.shape)"
   ]
  },
  {
   "cell_type": "code",
   "execution_count": 128,
   "metadata": {},
   "outputs": [
    {
     "name": "stdout",
     "output_type": "stream",
     "text": [
      "for alpha = 1e-06\n",
      "Log Loss : 1.0998777307931613\n",
      "for alpha = 1e-05\n",
      "Log Loss : 1.0526564982772806\n",
      "for alpha = 0.0001\n",
      "Log Loss : 0.9345502299309064\n",
      "for alpha = 0.001\n",
      "Log Loss : 0.9460741817438757\n",
      "for alpha = 0.01\n",
      "Log Loss : 1.167658483443886\n",
      "for alpha = 0.1\n",
      "Log Loss : 1.527247171116219\n",
      "for alpha = 1\n",
      "Log Loss : 1.6426281963483633\n",
      "for alpha = 10\n",
      "Log Loss : 1.6551788229517537\n"
     ]
    },
    {
     "data": {
      "image/png": "[encoded data removed]",
      "text/plain": [
       "<Figure size 432x288 with 1 Axes>"
      ]
     },
     "metadata": {
      "needs_background": "light"
     },
     "output_type": "display_data"
    },
    {
     "name": "stdout",
     "output_type": "stream",
     "text": [
      "For values of best alpha =  0.0001 The train log loss is: 0.4212207030164502\n",
      "For values of best alpha =  0.0001 The cross validation log loss is: 0.931857553048765\n",
      "For values of best alpha =  0.0001 The test log loss is: 0.9961814144988563\n"
     ]
    }
   ],
   "source": [
    "alpha = [10 ** x for x in range(-6, 2)]\n",
    "cv_log_error_array = []\n",
    "for i in alpha:\n",
    "    print(\"for alpha =\", i)\n",
    "    clf = SGDClassifier(class_weight='balanced', alpha=i, penalty='l2', loss='log', random_state=41)\n",
    "    clf.fit(train_x_onehotCoding, train_y)\n",
    "    sig_clf = CalibratedClassifierCV(clf, method=\"sigmoid\")\n",
    "    sig_clf.fit(train_x_onehotCoding, train_y)\n",
    "    sig_clf_probs = sig_clf.predict_proba(cv_x_onehotCoding)\n",
    "    cv_log_error_array.append(log_loss(cv_y, sig_clf_probs, labels=clf.classes_, eps=1e-15))\n",
    "    # to avoid rounding error while multiplying probabilites we use log-probability estimates\n",
    "    print(\"Log Loss :\",log_loss(cv_y, sig_clf_probs)) \n",
    "\n",
    "fig, ax = plt.subplots()\n",
    "ax.plot(alpha, cv_log_error_array,c='g')\n",
    "for i, txt in enumerate(np.round(cv_log_error_array,3)):\n",
    "    ax.annotate((alpha[i],str(txt)), (alpha[i],cv_log_error_array[i]))\n",
    "plt.grid()\n",
    "plt.title(\"Cross Validation Error for each alpha\")\n",
    "plt.xlabel(\"Alpha i's\")\n",
    "plt.ylabel(\"Error measure\")\n",
    "plt.show()\n",
    "\n",
    "\n",
    "best_alpha = np.argmin(cv_log_error_array)\n",
    "clf = SGDClassifier(class_weight='balanced', alpha=alpha[best_alpha], penalty='l2', loss='log',)\n",
    "clf.fit(train_x_onehotCoding, train_y)\n",
    "sig_clf = CalibratedClassifierCV(clf, method=\"sigmoid\")\n",
    "sig_clf.fit(train_x_onehotCoding, train_y)\n",
    "\n",
    "predict_y = sig_clf.predict_proba(train_x_onehotCoding)\n",
    "print('For values of best alpha = ', \n",
    "      alpha[best_alpha], \n",
    "      \"The train log loss is:\",\n",
    "      log_loss(y_train, predict_y, labels=clf.classes_, eps=1e-15))\n",
    "\n",
    "predict_y = sig_clf.predict_proba(cv_x_onehotCoding)\n",
    "print('For values of best alpha = ', \n",
    "      alpha[best_alpha], \n",
    "      \"The cross validation log loss is:\",\n",
    "      log_loss(y_cv, predict_y, labels=clf.classes_, eps=1e-15))\n",
    "\n",
    "predict_y = sig_clf.predict_proba(test_x_onehotCoding)\n",
    "print('For values of best alpha = ', \n",
    "      alpha[best_alpha], \"The test log loss is:\",\n",
    "      log_loss(y_test, predict_y, labels=clf.classes_, eps=1e-15))"
   ]
  },
  {
   "cell_type": "code",
   "execution_count": 129,
   "metadata": {},
   "outputs": [],
   "source": [
    "def predict_and_plot_confusion_matrix(train_x, train_y,test_x, test_y, clf):\n",
    "    clf.fit(train_x, train_y)\n",
    "    sig_clf = CalibratedClassifierCV(clf, method=\"sigmoid\")\n",
    "    sig_clf.fit(train_x, train_y)\n",
    "    pred_y = sig_clf.predict(test_x)\n",
    "\n",
    "    # for calculating log_loss we willl provide the array of probabilities belongs to each class\n",
    "    print(\"Log loss :\",log_loss(test_y, sig_clf.predict_proba(test_x)))\n",
    "    # calculating the number of data points that are misclassified\n",
    "    print(\"Number of mis-classified points :\", np.count_nonzero((pred_y- test_y))/test_y.shape[0])\n",
    "    plot_confusion_matrix(test_y, pred_y)"
   ]
  },
  {
   "cell_type": "code",
   "execution_count": 130,
   "metadata": {},
   "outputs": [
    {
     "name": "stdout",
     "output_type": "stream",
     "text": [
      "Log loss : 0.9268538426809342\n",
      "Number of mis-classified points : 0.3233082706766917\n",
      "-------------------- Confusion matrix --------------------\n"
     ]
    },
    {
     "data": {
      "image/png": "[encoded data removed]",
      "text/plain": [
       "<Figure size 1440x504 with 2 Axes>"
      ]
     },
     "metadata": {
      "needs_background": "light"
     },
     "output_type": "display_data"
    },
    {
     "name": "stdout",
     "output_type": "stream",
     "text": [
      "-------------------- Precision matrix (Columm Sum=1) --------------------\n"
     ]
    },
    {
     "data": {
      "image/png": "[encoded data removed]",
      "text/plain": [
       "<Figure size 1440x504 with 2 Axes>"
      ]
     },
     "metadata": {
      "needs_background": "light"
     },
     "output_type": "display_data"
    },
    {
     "name": "stdout",
     "output_type": "stream",
     "text": [
      "-------------------- Recall matrix (Row sum=1) --------------------\n"
     ]
    },
    {
     "data": {
      "image/png": "[encoded data removed]",
      "text/plain": [
       "<Figure size 1440x504 with 2 Axes>"
      ]
     },
     "metadata": {
      "needs_background": "light"
     },
     "output_type": "display_data"
    }
   ],
   "source": [
    "clf = SGDClassifier(class_weight='balanced', alpha=alpha[best_alpha], penalty='l2', loss='log',)\n",
    "predict_and_plot_confusion_matrix(train_x_onehotCoding, train_y, cv_x_onehotCoding, cv_y, clf)"
   ]
  },
  {
   "cell_type": "markdown",
   "metadata": {},
   "source": [
    "<h1>5. Tabular Result</h1>"
   ]
  },
  {
   "cell_type": "code",
   "execution_count": 133,
   "metadata": {},
   "outputs": [
    {
     "data": {
      "text/html": [
       "<div>\n",
       "<style scoped>\n",
       "    .dataframe tbody tr th:only-of-type {\n",
       "        vertical-align: middle;\n",
       "    }\n",
       "\n",
       "    .dataframe tbody tr th {\n",
       "        vertical-align: top;\n",
       "    }\n",
       "\n",
       "    .dataframe thead th {\n",
       "        text-align: right;\n",
       "    }\n",
       "</style>\n",
       "<table border=\"1\" class=\"dataframe\">\n",
       "  <thead>\n",
       "    <tr style=\"text-align: right;\">\n",
       "      <th></th>\n",
       "      <th>Maching Learning Model</th>\n",
       "      <th>Train (%)</th>\n",
       "      <th>CV (%)</th>\n",
       "      <th>Test (%)</th>\n",
       "      <th>Misclassification (%)</th>\n",
       "    </tr>\n",
       "  </thead>\n",
       "  <tbody>\n",
       "    <tr>\n",
       "      <th>0</th>\n",
       "      <td>After Applying Feature Engineering</td>\n",
       "      <td>0.41</td>\n",
       "      <td>0.92</td>\n",
       "      <td>0.99</td>\n",
       "      <td>32.33</td>\n",
       "    </tr>\n",
       "  </tbody>\n",
       "</table>\n",
       "</div>"
      ],
      "text/plain": [
       "               Maching Learning Model  Train (%)  CV (%)  Test (%)  \\\n",
       "0  After Applying Feature Engineering       0.41    0.92      0.99   \n",
       "\n",
       "   Misclassification (%)  \n",
       "0                  32.33  "
      ]
     },
     "execution_count": 133,
     "metadata": {},
     "output_type": "execute_result"
    }
   ],
   "source": [
    "import pandas as pd\n",
    "dataframe = pd.DataFrame(\n",
    "{\n",
    "    \"Maching Learning Model\": ['After Applying Feature Engineering'],\n",
    "    \"Train (%)\": [0.41],\n",
    "    \"CV (%)\": [0.92],\n",
    "    \"Test (%)\": [0.99],\n",
    "    \"Misclassification (%)\": [32.33],\n",
    "}\n",
    "\n",
    ")\n",
    "dataframe"
   ]
  },
  {
   "cell_type": "markdown",
   "metadata": {},
   "source": [
    "                                                "
   ]
  }
 ],
 "metadata": {
  "kernelspec": {
   "display_name": "Python 3",
   "language": "python",
   "name": "python3"
  },
  "language_info": {
   "codemirror_mode": {
    "name": "ipython",
    "version": 3
   },
   "file_extension": ".py",
   "mimetype": "text/x-python",
   "name": "python",
   "nbconvert_exporter": "python",
   "pygments_lexer": "ipython3",
   "version": "3.7.3"
  }
 },
 "nbformat": 4,
 "nbformat_minor": 2
}
